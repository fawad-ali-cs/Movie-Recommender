{
 "cells": [
  {
   "cell_type": "code",
   "execution_count": 1,
   "metadata": {},
   "outputs": [],
   "source": [
    "import pandas as pd\n",
    "import numpy as np\n",
    "import random\n",
    "import math\n",
    "from sklearn.metrics.pairwise import cosine_similarity\n",
    "import time\n",
    "\n",
    "from functions import train_test"
   ]
  },
  {
   "cell_type": "code",
   "execution_count": 2,
   "metadata": {},
   "outputs": [],
   "source": [
    "rating_df = pd.read_csv('data/user_rating_pt.csv')\n",
    "rating_df.columns = rating_df.columns.astype(int)"
   ]
  },
  {
   "cell_type": "code",
   "execution_count": 3,
   "metadata": {},
   "outputs": [
    {
     "data": {
      "text/html": [
       "<div>\n",
       "<style scoped>\n",
       "    .dataframe tbody tr th:only-of-type {\n",
       "        vertical-align: middle;\n",
       "    }\n",
       "\n",
       "    .dataframe tbody tr th {\n",
       "        vertical-align: top;\n",
       "    }\n",
       "\n",
       "    .dataframe thead th {\n",
       "        text-align: right;\n",
       "    }\n",
       "</style>\n",
       "<table border=\"1\" class=\"dataframe\">\n",
       "  <thead>\n",
       "    <tr style=\"text-align: right;\">\n",
       "      <th></th>\n",
       "      <th>0</th>\n",
       "      <th>1</th>\n",
       "      <th>2</th>\n",
       "      <th>3</th>\n",
       "      <th>4</th>\n",
       "      <th>5</th>\n",
       "      <th>6</th>\n",
       "      <th>7</th>\n",
       "      <th>8</th>\n",
       "      <th>9</th>\n",
       "      <th>...</th>\n",
       "      <th>9714</th>\n",
       "      <th>9715</th>\n",
       "      <th>9716</th>\n",
       "      <th>9717</th>\n",
       "      <th>9718</th>\n",
       "      <th>9719</th>\n",
       "      <th>9720</th>\n",
       "      <th>9721</th>\n",
       "      <th>9722</th>\n",
       "      <th>9723</th>\n",
       "    </tr>\n",
       "  </thead>\n",
       "  <tbody>\n",
       "    <tr>\n",
       "      <th>0</th>\n",
       "      <td>1.0</td>\n",
       "      <td>0.0</td>\n",
       "      <td>1.0</td>\n",
       "      <td>0.0</td>\n",
       "      <td>0.0</td>\n",
       "      <td>1.0</td>\n",
       "      <td>0.0</td>\n",
       "      <td>0</td>\n",
       "      <td>0.0</td>\n",
       "      <td>0.0</td>\n",
       "      <td>...</td>\n",
       "      <td>0.0</td>\n",
       "      <td>0</td>\n",
       "      <td>0</td>\n",
       "      <td>0</td>\n",
       "      <td>0.0</td>\n",
       "      <td>0</td>\n",
       "      <td>0.0</td>\n",
       "      <td>0.0</td>\n",
       "      <td>0.0</td>\n",
       "      <td>0</td>\n",
       "    </tr>\n",
       "    <tr>\n",
       "      <th>1</th>\n",
       "      <td>0.0</td>\n",
       "      <td>0.0</td>\n",
       "      <td>0.0</td>\n",
       "      <td>0.0</td>\n",
       "      <td>0.0</td>\n",
       "      <td>0.0</td>\n",
       "      <td>0.0</td>\n",
       "      <td>0</td>\n",
       "      <td>0.0</td>\n",
       "      <td>0.0</td>\n",
       "      <td>...</td>\n",
       "      <td>0.0</td>\n",
       "      <td>0</td>\n",
       "      <td>0</td>\n",
       "      <td>0</td>\n",
       "      <td>0.0</td>\n",
       "      <td>0</td>\n",
       "      <td>0.0</td>\n",
       "      <td>0.0</td>\n",
       "      <td>0.0</td>\n",
       "      <td>0</td>\n",
       "    </tr>\n",
       "    <tr>\n",
       "      <th>2</th>\n",
       "      <td>0.0</td>\n",
       "      <td>0.0</td>\n",
       "      <td>0.0</td>\n",
       "      <td>0.0</td>\n",
       "      <td>0.0</td>\n",
       "      <td>0.0</td>\n",
       "      <td>0.0</td>\n",
       "      <td>0</td>\n",
       "      <td>0.0</td>\n",
       "      <td>0.0</td>\n",
       "      <td>...</td>\n",
       "      <td>0.0</td>\n",
       "      <td>0</td>\n",
       "      <td>0</td>\n",
       "      <td>0</td>\n",
       "      <td>0.0</td>\n",
       "      <td>0</td>\n",
       "      <td>0.0</td>\n",
       "      <td>0.0</td>\n",
       "      <td>0.0</td>\n",
       "      <td>0</td>\n",
       "    </tr>\n",
       "    <tr>\n",
       "      <th>3</th>\n",
       "      <td>0.0</td>\n",
       "      <td>0.0</td>\n",
       "      <td>0.0</td>\n",
       "      <td>0.0</td>\n",
       "      <td>0.0</td>\n",
       "      <td>0.0</td>\n",
       "      <td>0.0</td>\n",
       "      <td>0</td>\n",
       "      <td>0.0</td>\n",
       "      <td>0.0</td>\n",
       "      <td>...</td>\n",
       "      <td>0.0</td>\n",
       "      <td>0</td>\n",
       "      <td>0</td>\n",
       "      <td>0</td>\n",
       "      <td>0.0</td>\n",
       "      <td>0</td>\n",
       "      <td>0.0</td>\n",
       "      <td>0.0</td>\n",
       "      <td>0.0</td>\n",
       "      <td>0</td>\n",
       "    </tr>\n",
       "    <tr>\n",
       "      <th>4</th>\n",
       "      <td>1.0</td>\n",
       "      <td>0.0</td>\n",
       "      <td>0.0</td>\n",
       "      <td>0.0</td>\n",
       "      <td>0.0</td>\n",
       "      <td>0.0</td>\n",
       "      <td>0.0</td>\n",
       "      <td>0</td>\n",
       "      <td>0.0</td>\n",
       "      <td>0.0</td>\n",
       "      <td>...</td>\n",
       "      <td>0.0</td>\n",
       "      <td>0</td>\n",
       "      <td>0</td>\n",
       "      <td>0</td>\n",
       "      <td>0.0</td>\n",
       "      <td>0</td>\n",
       "      <td>0.0</td>\n",
       "      <td>0.0</td>\n",
       "      <td>0.0</td>\n",
       "      <td>0</td>\n",
       "    </tr>\n",
       "  </tbody>\n",
       "</table>\n",
       "<p>5 rows × 9724 columns</p>\n",
       "</div>"
      ],
      "text/plain": [
       "   0     1     2     3     4     5     6     7     8     9     ...  9714  \\\n",
       "0   1.0   0.0   1.0   0.0   0.0   1.0   0.0     0   0.0   0.0  ...   0.0   \n",
       "1   0.0   0.0   0.0   0.0   0.0   0.0   0.0     0   0.0   0.0  ...   0.0   \n",
       "2   0.0   0.0   0.0   0.0   0.0   0.0   0.0     0   0.0   0.0  ...   0.0   \n",
       "3   0.0   0.0   0.0   0.0   0.0   0.0   0.0     0   0.0   0.0  ...   0.0   \n",
       "4   1.0   0.0   0.0   0.0   0.0   0.0   0.0     0   0.0   0.0  ...   0.0   \n",
       "\n",
       "   9715  9716  9717  9718  9719  9720  9721  9722  9723  \n",
       "0     0     0     0   0.0     0   0.0   0.0   0.0     0  \n",
       "1     0     0     0   0.0     0   0.0   0.0   0.0     0  \n",
       "2     0     0     0   0.0     0   0.0   0.0   0.0     0  \n",
       "3     0     0     0   0.0     0   0.0   0.0   0.0     0  \n",
       "4     0     0     0   0.0     0   0.0   0.0   0.0     0  \n",
       "\n",
       "[5 rows x 9724 columns]"
      ]
     },
     "execution_count": 3,
     "metadata": {},
     "output_type": "execute_result"
    }
   ],
   "source": [
    "rating_treshold = 3.5\n",
    "\n",
    "rating_df[rating_df < rating_treshold] = 0\n",
    "rating_df[rating_df >= rating_treshold] = 1\n",
    "rating_df.columns = range(len(rating_df.columns))\n",
    "\n",
    "rating_df.head()"
   ]
  },
  {
   "cell_type": "code",
   "execution_count": 4,
   "metadata": {},
   "outputs": [],
   "source": [
    "known = []\n",
    "rating_matrix = rating_df.to_numpy()\n",
    "\n",
    "for u in range(rating_df.shape[0]):\n",
    "    for i in range(rating_df.shape[1]):\n",
    "        if rating_df.loc[u,i] > 0:\n",
    "            known.append((u, i))\n",
    "\n",
    "training, testing = train_test(known, test_size=0.3)"
   ]
  },
  {
   "cell_type": "code",
   "execution_count": 5,
   "metadata": {},
   "outputs": [],
   "source": [
    "train_matrix = np.zeros((rating_matrix.shape[0], rating_matrix.shape[1]))\n",
    "test_matrix = np.zeros((rating_matrix.shape[0], rating_matrix.shape[1]))\n",
    "\n",
    "for u, i in training:\n",
    "    train_matrix[u][i] = 1"
   ]
  },
  {
   "cell_type": "markdown",
   "metadata": {},
   "source": [
    "## TF-IDF Implementation"
   ]
  },
  {
   "cell_type": "code",
   "execution_count": 6,
   "metadata": {},
   "outputs": [],
   "source": [
    "movie_df = pd.read_csv('ml-latest-small/movies.csv')\n",
    "genre_list = ['Action', 'Adventure', 'Animation', 'Children', 'Comedy', 'Crime', 'Documentary',\n",
    "              'Drama' ,'Fantasy', 'Film-Noir', 'Horror', 'Musical', 'Mystery', 'Romance', \n",
    "              'Sci-Fi', 'Thriller', 'War', 'Western', '(no genres listed)']\n",
    "\n",
    "movies_rated = pd.read_csv('ml-latest-small/ratings.csv')['movieId'].unique()\n",
    "movie_df = movie_df[movie_df['movieId'].isin(movies_rated)].reset_index(drop=True)"
   ]
  },
  {
   "cell_type": "code",
   "execution_count": 7,
   "metadata": {},
   "outputs": [],
   "source": [
    "movie_genres = []\n",
    "total_genres = []\n",
    "\n",
    "for index, row in movie_df.iterrows():\n",
    "    row_genre = row['genres'].split('|')\n",
    "    movie_genres.append(row_genre)\n",
    "    \n",
    "    total_genres.append(len(row_genre))"
   ]
  },
  {
   "cell_type": "code",
   "execution_count": 8,
   "metadata": {},
   "outputs": [],
   "source": [
    "tf = pd.DataFrame([])\n",
    "\n",
    "for genre in genre_list:\n",
    "    tf_genre = []\n",
    "    \n",
    "    for movie in movie_genres:\n",
    "        if genre in movie:\n",
    "            tf_genre.append(1/len(movie))\n",
    "        else:\n",
    "            tf_genre.append(0)\n",
    "    \n",
    "    tf[genre] = tf_genre"
   ]
  },
  {
   "cell_type": "code",
   "execution_count": 9,
   "metadata": {},
   "outputs": [],
   "source": [
    "total_documents = len(movie_df)\n",
    "idf = []\n",
    "\n",
    "for genre in genre_list:\n",
    "    genre_count = 0\n",
    "    \n",
    "    for movie in movie_genres:\n",
    "        if genre in movie:\n",
    "            genre_count += 1\n",
    "    \n",
    "    idf.append(math.log(total_documents/genre_count, 10))\n",
    "\n",
    "idf = pd.Series(idf, index=genre_list)"
   ]
  },
  {
   "cell_type": "code",
   "execution_count": 10,
   "metadata": {},
   "outputs": [],
   "source": [
    "tf_idf = tf*idf"
   ]
  },
  {
   "cell_type": "code",
   "execution_count": 25,
   "metadata": {},
   "outputs": [
    {
     "data": {
      "text/plain": [
       "(9724, 19)"
      ]
     },
     "execution_count": 25,
     "metadata": {},
     "output_type": "execute_result"
    }
   ],
   "source": [
    "tf_idf.shape"
   ]
  },
  {
   "cell_type": "code",
   "execution_count": 11,
   "metadata": {},
   "outputs": [
    {
     "data": {
      "text/plain": [
       "(9724, 9724)"
      ]
     },
     "execution_count": 11,
     "metadata": {},
     "output_type": "execute_result"
    }
   ],
   "source": [
    "sim_matrix = cosine_similarity(tf_idf)\n",
    "np.fill_diagonal(sim_matrix, 0)\n",
    "\n",
    "sim_matrix.shape"
   ]
  },
  {
   "cell_type": "code",
   "execution_count": 12,
   "metadata": {},
   "outputs": [],
   "source": [
    "avg_sim_matrix = []\n",
    "\n",
    "for user in train_matrix:\n",
    "    liked_index = np.where(user==1)\n",
    "    \n",
    "    if len(liked_index[0]) != 0:\n",
    "        avg_sim = sim_matrix[liked_index].mean(axis=0)\n",
    "        avg_sim[liked_index] = 0\n",
    "    else:\n",
    "        avg_sim = [0]*train_matrix.shape[1]\n",
    "    \n",
    "    avg_sim_matrix.append(avg_sim)\n",
    "    \n",
    "avg_sim_matrix = np.array(avg_sim_matrix)"
   ]
  },
  {
   "cell_type": "code",
   "execution_count": 13,
   "metadata": {},
   "outputs": [
    {
     "data": {
      "text/plain": [
       "(610, 9724)"
      ]
     },
     "execution_count": 13,
     "metadata": {},
     "output_type": "execute_result"
    }
   ],
   "source": [
    "avg_sim_matrix.shape"
   ]
  },
  {
   "cell_type": "markdown",
   "metadata": {},
   "source": [
    "## Hybrid Implementation TSUISIMCF + TFIDF"
   ]
  },
  {
   "cell_type": "code",
   "execution_count": 14,
   "metadata": {},
   "outputs": [],
   "source": [
    "def get_metrics(test_set, recommend_list):\n",
    "    true_positive = 0\n",
    "    false_positive = 0\n",
    "    false_negative = 0\n",
    "\n",
    "    for item in recommend_list:\n",
    "        if item in test_set:\n",
    "            true_positive += 1\n",
    "        else:\n",
    "            false_positive += 1\n",
    "\n",
    "    for item in test_set:\n",
    "        if item not in recommend_list:\n",
    "            false_negative+=1\n",
    "\n",
    "    precision = true_positive/(true_positive + false_positive)\n",
    "    recall = true_positive/(true_positive + false_negative)\n",
    "    F1_score = 2*(precision*recall)/(precision + recall)\n",
    "\n",
    "    print(\"Precision :\", precision)\n",
    "    print(\"Recall :\", recall)\n",
    "    print(\"F1 Score :\", F1_score)\n",
    "    \n",
    "    return precision, recall, F1_score\n",
    "    true_positive = 0\n",
    "    false_positive = 0\n",
    "    false_negative = 0\n",
    "    \n",
    "    for user in range(rec_matrix.shape[0]):\n",
    "        for rec in rec_matrix[user]:\n",
    "            if (user, rec) in test_data:\n",
    "                true_positive += 1\n",
    "            else:\n",
    "                false_positive += 1\n",
    "                \n",
    "    for u, m in test_data:\n",
    "        if m not in rec_matrix[u]:\n",
    "            false_negative += 1\n",
    "        \n",
    "    precision = true_positive/(true_positive + false_positive)\n",
    "    recall = true_positive/(true_positive + false_negative)\n",
    "    F1_score = 2*(precision*recall)/(precision + recall)\n",
    "    \n",
    "    print(\"Precision :\", precision)\n",
    "    print(\"Recall :\", recall)\n",
    "    print(\"F1 Score :\", F1_score)"
   ]
  },
  {
   "cell_type": "code",
   "execution_count": 15,
   "metadata": {},
   "outputs": [],
   "source": [
    "def common_neighbors(dataset, by='user'):\n",
    "    #since values are either 1 or 0, the dot product of two users/movies \n",
    "    #is used to find the number of common neighbors \n",
    "    if by == 'user':\n",
    "        common_matrix = np.dot(dataset, dataset.T)\n",
    "    elif by == 'movie':\n",
    "        common_matrix = np.dot(dataset.T, dataset)\n",
    "    \n",
    "    return pd.DataFrame(common_matrix)"
   ]
  },
  {
   "cell_type": "code",
   "execution_count": 16,
   "metadata": {},
   "outputs": [],
   "source": [
    "def jacard_coefﬁcient(dataset, by='user'):\n",
    "    if by == 'user':\n",
    "        jc = common_neighbors(dataset, by='user')\n",
    "        sum_matrix = dataset.T.sum()      \n",
    "        \n",
    "    elif by == 'movie':\n",
    "        jc = common_neighbors(dataset, by='movie') \n",
    "        sum_matrix = dataset.sum()\n",
    "        sum_matrix.index = range(len(sum_matrix))\n",
    "        \n",
    "    size = len(jc)\n",
    "    ones_matrix = pd.DataFrame(np.ones((size,size)))\n",
    "    \n",
    "    #get size of the union of two users or movies\n",
    "    union_count = (sum_matrix * ones_matrix).T + (sum_matrix * ones_matrix) - jc\n",
    "    \n",
    "    jc = jc/union_count\n",
    "    \n",
    "    jc = jc.fillna(0)\n",
    "    \n",
    "    return jc"
   ]
  },
  {
   "cell_type": "code",
   "execution_count": 17,
   "metadata": {},
   "outputs": [],
   "source": [
    "def get_recommendations(train_data, user_sim, movie_sim, k_user, n_movie, users_evaluated, weight=.5):\n",
    "    #list of recommeded movies to users\n",
    "    recommeded_movies = []\n",
    "    \n",
    "    for user in users_evaluated:\n",
    "        #get movies user liked\n",
    "        movies = train_data.loc[user]\n",
    "        liked_movies = list(movies[movies == 1].index)\n",
    "       \n",
    "        #get top k most similar users\n",
    "        top_k = list(user_sim.loc[user].sort_values(ascending=False)[:k_user+1].index)\n",
    "     \n",
    "        if user in top_k:\n",
    "            top_k.remove(user)\n",
    "        else:\n",
    "            top_k = top_k[:k_user]\n",
    "        \n",
    "        #get possible movie recommendations\n",
    "        possible_rec = []\n",
    "        \n",
    "        for top_user in top_k:\n",
    "         \n",
    "            movies = train_data.loc[top_user]\n",
    "            user_likes = list(movies[movies == 1].index)\n",
    "                                \n",
    "            for movie in user_likes:\n",
    "                if (movie not in liked_movies) and (movie not in possible_rec):\n",
    "                    possible_rec.append(movie)\n",
    "        \n",
    "        #get score of possible recommendations\n",
    "        rec_scores = []\n",
    "        \n",
    "        for movie in possible_rec:\n",
    "            score = weight*movie_sim.loc[movie, liked_movies].max() + (1-weight)*avg_sim_matrix[user][movie]\n",
    "            rec_scores.append(score)\n",
    "        \n",
    "        #get top n score index\n",
    "        top_index = np.argpartition(rec_scores,-n_movie)[-n_movie:]\n",
    "        \n",
    "        #get top movie recommendations\n",
    "        for index in top_index:\n",
    "            recommeded_movies.append((user, possible_rec[index]))\n",
    "            \n",
    "    return recommeded_movies"
   ]
  },
  {
   "cell_type": "code",
   "execution_count": 24,
   "metadata": {},
   "outputs": [],
   "source": [
    "train_df = pd.DataFrame(train_matrix)\n",
    "\n",
    "cn_movie = common_neighbors(train_df, by='movie')\n",
    "jc_user = jacard_coefﬁcient(train_df, by='user')"
   ]
  },
  {
   "cell_type": "code",
   "execution_count": 19,
   "metadata": {},
   "outputs": [
    {
     "name": "stdout",
     "output_type": "stream",
     "text": [
      "Precision : 0.24360655737704917\n",
      "Recall : 0.04012962462867945\n",
      "F1 Score : 0.0689079527011361\n"
     ]
    },
    {
     "data": {
      "text/plain": [
       "(0.24360655737704917, 0.04012962462867945, 0.0689079527011361)"
      ]
     },
     "execution_count": 19,
     "metadata": {},
     "output_type": "execute_result"
    }
   ],
   "source": [
    "recommend_list = get_recommendations(train_df, jc_user, cn_movie, 10, 5, range(train_matrix.shape[0]), weight=1)\n",
    "get_metrics(testing, recommend_list)"
   ]
  },
  {
   "cell_type": "code",
   "execution_count": 20,
   "metadata": {},
   "outputs": [
    {
     "name": "stdout",
     "output_type": "stream",
     "text": [
      "Precision : 0.24459016393442623\n",
      "Recall : 0.04029165541452876\n",
      "F1 Score : 0.0691861813123116\n"
     ]
    },
    {
     "data": {
      "text/plain": [
       "(0.24459016393442623, 0.04029165541452876, 0.0691861813123116)"
      ]
     },
     "execution_count": 20,
     "metadata": {},
     "output_type": "execute_result"
    }
   ],
   "source": [
    "recommend_list = get_recommendations(train_df, jc_user, cn_movie, 10, 5, range(train_matrix.shape[0]), weight=.75)\n",
    "get_metrics(testing, recommend_list)"
   ]
  },
  {
   "cell_type": "code",
   "execution_count": 21,
   "metadata": {},
   "outputs": [
    {
     "name": "stdout",
     "output_type": "stream",
     "text": [
      "Precision : 0.24459016393442623\n",
      "Recall : 0.04029165541452876\n",
      "F1 Score : 0.0691861813123116\n"
     ]
    },
    {
     "data": {
      "text/plain": [
       "(0.24459016393442623, 0.04029165541452876, 0.0691861813123116)"
      ]
     },
     "execution_count": 21,
     "metadata": {},
     "output_type": "execute_result"
    }
   ],
   "source": [
    "recommend_list = get_recommendations(train_df, jc_user, cn_movie, 10, 5, range(train_matrix.shape[0]), weight=.5)\n",
    "get_metrics(testing, recommend_list)"
   ]
  },
  {
   "cell_type": "code",
   "execution_count": 22,
   "metadata": {},
   "outputs": [
    {
     "name": "stdout",
     "output_type": "stream",
     "text": [
      "Precision : 0.24524590163934426\n",
      "Recall : 0.0403996759384283\n",
      "F1 Score : 0.0693716670530953\n"
     ]
    },
    {
     "data": {
      "text/plain": [
       "(0.24524590163934426, 0.0403996759384283, 0.0693716670530953)"
      ]
     },
     "execution_count": 22,
     "metadata": {},
     "output_type": "execute_result"
    }
   ],
   "source": [
    "recommend_list = get_recommendations(train_df, jc_user, cn_movie, 10, 5, range(train_matrix.shape[0]), weight=.3)\n",
    "get_metrics(testing, recommend_list)"
   ]
  },
  {
   "cell_type": "code",
   "execution_count": 23,
   "metadata": {},
   "outputs": [
    {
     "name": "stdout",
     "output_type": "stream",
     "text": [
      "Precision : 0.24622950819672132\n",
      "Recall : 0.04056170672427761\n",
      "F1 Score : 0.06964989566427081\n"
     ]
    },
    {
     "data": {
      "text/plain": [
       "(0.24622950819672132, 0.04056170672427761, 0.06964989566427081)"
      ]
     },
     "execution_count": 23,
     "metadata": {},
     "output_type": "execute_result"
    }
   ],
   "source": [
    "recommend_list = get_recommendations(train_df, jc_user, cn_movie, 10, 5, range(train_matrix.shape[0]), weight=.15)\n",
    "get_metrics(testing, recommend_list)"
   ]
  },
  {
   "cell_type": "markdown",
   "metadata": {},
   "source": [
    "## Single User"
   ]
  },
  {
   "cell_type": "code",
   "execution_count": null,
   "metadata": {},
   "outputs": [],
   "source": [
    "def get_recommendations_user(train_data, user_sim, movie_sim, k_user, n_movie, users_evaluated, weight=.15):\n",
    "    #list of recommeded movies to users\n",
    "    recommeded_movies = []\n",
    "    \n",
    "    for user in users_evaluated:\n",
    "        #get movies user liked\n",
    "        movies = train_data.loc[user]\n",
    "        liked_movies = list(movies[movies == 1].index)\n",
    "       \n",
    "        #get top k most similar users\n",
    "        top_k = list(user_sim.loc[user].sort_values(ascending=False)[:k_user+1].index)\n",
    "     \n",
    "        if user in top_k:\n",
    "            top_k.remove(user)\n",
    "        else:\n",
    "            top_k = top_k[:k_user]\n",
    "        \n",
    "        #get possible movie recommendations\n",
    "        possible_rec = []\n",
    "        \n",
    "        for top_user in top_k:\n",
    "         \n",
    "            movies = train_data.loc[top_user]\n",
    "            user_likes = list(movies[movies == 1].index)\n",
    "                                \n",
    "            for movie in user_likes:\n",
    "                if (movie not in liked_movies) and (movie not in possible_rec):\n",
    "                    possible_rec.append(movie)\n",
    "        \n",
    "        #get score of possible recommendations\n",
    "        rec_scores = []\n",
    "        \n",
    "        for movie in possible_rec:\n",
    "            score = weight*movie_sim.loc[movie, liked_movies].max() + (1-weight)*avg_sim_matrix[user][movie]\n",
    "            rec_scores.append(score)\n",
    "        \n",
    "        #get top n score index\n",
    "        top_index = np.argpartition(rec_scores,-n_movie)[-n_movie:]\n",
    "        \n",
    "        #get top movie recommendations\n",
    "        for index in top_index:\n",
    "            recommeded_movies.append((user, possible_rec[index]))\n",
    "            \n",
    "    return recommeded_movies"
   ]
  }
 ],
 "metadata": {
  "kernelspec": {
   "display_name": "Python 3",
   "language": "python",
   "name": "python3"
  },
  "language_info": {
   "codemirror_mode": {
    "name": "ipython",
    "version": 3
   },
   "file_extension": ".py",
   "mimetype": "text/x-python",
   "name": "python",
   "nbconvert_exporter": "python",
   "pygments_lexer": "ipython3",
   "version": "3.8.3"
  }
 },
 "nbformat": 4,
 "nbformat_minor": 4
}
