{
 "cells": [
  {
   "cell_type": "code",
   "execution_count": 22,
   "metadata": {},
   "outputs": [],
   "source": [
    "import pandas as pd\n",
    "import numpy as np\n",
    "import random"
   ]
  },
  {
   "cell_type": "code",
   "execution_count": 23,
   "metadata": {},
   "outputs": [],
   "source": [
    "rating_df = pd.read_csv('data/user_rating_pt.csv')\n",
    "rating_df.columns = rating_df.columns.astype(int)"
   ]
  },
  {
   "cell_type": "code",
   "execution_count": 24,
   "metadata": {},
   "outputs": [
    {
     "data": {
      "text/html": [
       "<div>\n",
       "<style scoped>\n",
       "    .dataframe tbody tr th:only-of-type {\n",
       "        vertical-align: middle;\n",
       "    }\n",
       "\n",
       "    .dataframe tbody tr th {\n",
       "        vertical-align: top;\n",
       "    }\n",
       "\n",
       "    .dataframe thead th {\n",
       "        text-align: right;\n",
       "    }\n",
       "</style>\n",
       "<table border=\"1\" class=\"dataframe\">\n",
       "  <thead>\n",
       "    <tr style=\"text-align: right;\">\n",
       "      <th></th>\n",
       "      <th>0</th>\n",
       "      <th>1</th>\n",
       "      <th>2</th>\n",
       "      <th>3</th>\n",
       "      <th>4</th>\n",
       "      <th>5</th>\n",
       "      <th>6</th>\n",
       "      <th>7</th>\n",
       "      <th>8</th>\n",
       "      <th>9</th>\n",
       "      <th>...</th>\n",
       "      <th>9714</th>\n",
       "      <th>9715</th>\n",
       "      <th>9716</th>\n",
       "      <th>9717</th>\n",
       "      <th>9718</th>\n",
       "      <th>9719</th>\n",
       "      <th>9720</th>\n",
       "      <th>9721</th>\n",
       "      <th>9722</th>\n",
       "      <th>9723</th>\n",
       "    </tr>\n",
       "  </thead>\n",
       "  <tbody>\n",
       "    <tr>\n",
       "      <th>0</th>\n",
       "      <td>1.0</td>\n",
       "      <td>0.0</td>\n",
       "      <td>1.0</td>\n",
       "      <td>0.0</td>\n",
       "      <td>0.0</td>\n",
       "      <td>1.0</td>\n",
       "      <td>0.0</td>\n",
       "      <td>0</td>\n",
       "      <td>0.0</td>\n",
       "      <td>0.0</td>\n",
       "      <td>...</td>\n",
       "      <td>0.0</td>\n",
       "      <td>0</td>\n",
       "      <td>0</td>\n",
       "      <td>0</td>\n",
       "      <td>0.0</td>\n",
       "      <td>0</td>\n",
       "      <td>0.0</td>\n",
       "      <td>0.0</td>\n",
       "      <td>0.0</td>\n",
       "      <td>0</td>\n",
       "    </tr>\n",
       "    <tr>\n",
       "      <th>1</th>\n",
       "      <td>0.0</td>\n",
       "      <td>0.0</td>\n",
       "      <td>0.0</td>\n",
       "      <td>0.0</td>\n",
       "      <td>0.0</td>\n",
       "      <td>0.0</td>\n",
       "      <td>0.0</td>\n",
       "      <td>0</td>\n",
       "      <td>0.0</td>\n",
       "      <td>0.0</td>\n",
       "      <td>...</td>\n",
       "      <td>0.0</td>\n",
       "      <td>0</td>\n",
       "      <td>0</td>\n",
       "      <td>0</td>\n",
       "      <td>0.0</td>\n",
       "      <td>0</td>\n",
       "      <td>0.0</td>\n",
       "      <td>0.0</td>\n",
       "      <td>0.0</td>\n",
       "      <td>0</td>\n",
       "    </tr>\n",
       "    <tr>\n",
       "      <th>2</th>\n",
       "      <td>0.0</td>\n",
       "      <td>0.0</td>\n",
       "      <td>0.0</td>\n",
       "      <td>0.0</td>\n",
       "      <td>0.0</td>\n",
       "      <td>0.0</td>\n",
       "      <td>0.0</td>\n",
       "      <td>0</td>\n",
       "      <td>0.0</td>\n",
       "      <td>0.0</td>\n",
       "      <td>...</td>\n",
       "      <td>0.0</td>\n",
       "      <td>0</td>\n",
       "      <td>0</td>\n",
       "      <td>0</td>\n",
       "      <td>0.0</td>\n",
       "      <td>0</td>\n",
       "      <td>0.0</td>\n",
       "      <td>0.0</td>\n",
       "      <td>0.0</td>\n",
       "      <td>0</td>\n",
       "    </tr>\n",
       "    <tr>\n",
       "      <th>3</th>\n",
       "      <td>0.0</td>\n",
       "      <td>0.0</td>\n",
       "      <td>0.0</td>\n",
       "      <td>0.0</td>\n",
       "      <td>0.0</td>\n",
       "      <td>0.0</td>\n",
       "      <td>0.0</td>\n",
       "      <td>0</td>\n",
       "      <td>0.0</td>\n",
       "      <td>0.0</td>\n",
       "      <td>...</td>\n",
       "      <td>0.0</td>\n",
       "      <td>0</td>\n",
       "      <td>0</td>\n",
       "      <td>0</td>\n",
       "      <td>0.0</td>\n",
       "      <td>0</td>\n",
       "      <td>0.0</td>\n",
       "      <td>0.0</td>\n",
       "      <td>0.0</td>\n",
       "      <td>0</td>\n",
       "    </tr>\n",
       "    <tr>\n",
       "      <th>4</th>\n",
       "      <td>1.0</td>\n",
       "      <td>0.0</td>\n",
       "      <td>0.0</td>\n",
       "      <td>0.0</td>\n",
       "      <td>0.0</td>\n",
       "      <td>0.0</td>\n",
       "      <td>0.0</td>\n",
       "      <td>0</td>\n",
       "      <td>0.0</td>\n",
       "      <td>0.0</td>\n",
       "      <td>...</td>\n",
       "      <td>0.0</td>\n",
       "      <td>0</td>\n",
       "      <td>0</td>\n",
       "      <td>0</td>\n",
       "      <td>0.0</td>\n",
       "      <td>0</td>\n",
       "      <td>0.0</td>\n",
       "      <td>0.0</td>\n",
       "      <td>0.0</td>\n",
       "      <td>0</td>\n",
       "    </tr>\n",
       "  </tbody>\n",
       "</table>\n",
       "<p>5 rows × 9724 columns</p>\n",
       "</div>"
      ],
      "text/plain": [
       "   0     1     2     3     4     5     6     7     8     9     ...  9714  \\\n",
       "0   1.0   0.0   1.0   0.0   0.0   1.0   0.0     0   0.0   0.0  ...   0.0   \n",
       "1   0.0   0.0   0.0   0.0   0.0   0.0   0.0     0   0.0   0.0  ...   0.0   \n",
       "2   0.0   0.0   0.0   0.0   0.0   0.0   0.0     0   0.0   0.0  ...   0.0   \n",
       "3   0.0   0.0   0.0   0.0   0.0   0.0   0.0     0   0.0   0.0  ...   0.0   \n",
       "4   1.0   0.0   0.0   0.0   0.0   0.0   0.0     0   0.0   0.0  ...   0.0   \n",
       "\n",
       "   9715  9716  9717  9718  9719  9720  9721  9722  9723  \n",
       "0     0     0     0   0.0     0   0.0   0.0   0.0     0  \n",
       "1     0     0     0   0.0     0   0.0   0.0   0.0     0  \n",
       "2     0     0     0   0.0     0   0.0   0.0   0.0     0  \n",
       "3     0     0     0   0.0     0   0.0   0.0   0.0     0  \n",
       "4     0     0     0   0.0     0   0.0   0.0   0.0     0  \n",
       "\n",
       "[5 rows x 9724 columns]"
      ]
     },
     "execution_count": 24,
     "metadata": {},
     "output_type": "execute_result"
    }
   ],
   "source": [
    "#filter if a user liked a movie with by a certain rating.\n",
    "#Values will be 1 if they like a movie, 0 if they don't or have not seen the movie\n",
    "rating_treshold = 3.5\n",
    "\n",
    "rating_df[rating_df < rating_treshold] = 0\n",
    "rating_df[rating_df >= rating_treshold] = 1\n",
    "rating_df.columns = range(len(rating_df.columns))\n",
    "\n",
    "rating_df.head()"
   ]
  },
  {
   "cell_type": "code",
   "execution_count": 19,
   "metadata": {
    "scrolled": true
   },
   "outputs": [],
   "source": [
    "#get users with with one or more likes\n",
    "user_count = rating_df.T.sum()\n",
    "user_list = list(user_count[user_count > 0].index)\n",
    "\n",
    "#get movies with one or more likes\n",
    "movie_count = rating_df.sum()\n",
    "movie_list = list(movie_count[movie_count > 0].index)\n",
    "\n",
    "#filter movies\n",
    "rating_df = rating_df.loc[user_list,movie_list]\n",
    "\n",
    "#set index and columns to index numbers\n",
    "rating_df.columns = range(len(rating_df.columns))\n",
    "rating_df.index = range(len(rating_df.index))\n",
    "\n",
    "#get user being evaluated. Users need to have a atleast a certain number of ratings\n",
    "user_count = rating_df.T.sum()\n",
    "evaluation_list = list(user_count[user_count >= 15].index)"
   ]
  },
  {
   "cell_type": "code",
   "execution_count": 20,
   "metadata": {},
   "outputs": [],
   "source": [
    "test_set = []\n",
    "\n",
    "#get indices in where a user liked a movie\n",
    "for user in evaluation_list:\n",
    "    liked_index = [] \n",
    "    \n",
    "    for movie in rating_df.columns:\n",
    "        if rating_df.loc[user, movie] == 1:\n",
    "            liked_index.append((user, movie))\n",
    "\n",
    "    #get test data\n",
    "    test_length = int(len(liked_index) * .3)\n",
    "    random.shuffle(liked_index)\n",
    "    test_set = test_set + liked_index[:test_length]\n",
    "\n",
    "#get training data\n",
    "train_data = rating_df.copy()\n",
    "\n",
    "for row, col in test_set:\n",
    "    train_data.loc[row, col] = 0"
   ]
  },
  {
   "cell_type": "code",
   "execution_count": 6,
   "metadata": {},
   "outputs": [],
   "source": [
    "user_sets = []\n",
    "for index, row in rating_df.iterrows():\n",
    "    user_sets.append(set(row[row == 1].index))"
   ]
  },
  {
   "cell_type": "code",
   "execution_count": 7,
   "metadata": {},
   "outputs": [],
   "source": [
    "movie_sets = []\n",
    "for index, row in rating_df.T.iterrows():\n",
    "    movie_sets.append(set(row[row == 1].index))"
   ]
  },
  {
   "cell_type": "code",
   "execution_count": 65,
   "metadata": {},
   "outputs": [],
   "source": [
    "def common_neighbors(dataset, by='user'):\n",
    "    #since values are either 1 or 0, the dot product of two users/movies \n",
    "    #is used to find the number of common neighbors \n",
    "    if by == 'user':\n",
    "        common_matrix = np.dot(dataset, dataset.T)\n",
    "    elif by == 'movie':\n",
    "        common_matrix = np.dot(dataset.T, dataset)\n",
    "    \n",
    "    return pd.DataFrame(common_matrix)\n"
   ]
  },
  {
   "cell_type": "code",
   "execution_count": 66,
   "metadata": {},
   "outputs": [],
   "source": [
    "def jacard_coefﬁcient(dataset, by='user'):\n",
    "    if by == 'user':\n",
    "        jc = common_neighbors(dataset, by='user')\n",
    "        sum_matrix = dataset.T.sum()      \n",
    "        \n",
    "    elif by == 'movie':\n",
    "        jc = common_neighbors(dataset, by='movie') \n",
    "        sum_matrix = dataset.sum()\n",
    "        sum_matrix.index = range(len(sum_matrix))\n",
    "        \n",
    "    size = len(jc)\n",
    "    ones_matrix = pd.DataFrame(np.ones((size,size)))\n",
    "    \n",
    "    #get size of the union of two users or movies\n",
    "    union_count = (sum_matrix * ones_matrix).T + (sum_matrix * ones_matrix) - jc\n",
    "    \n",
    "    jc = jc/union_count\n",
    "    \n",
    "    jc = jc.fillna(0)\n",
    "    \n",
    "    return jc"
   ]
  },
  {
   "cell_type": "code",
   "execution_count": 67,
   "metadata": {},
   "outputs": [],
   "source": [
    "def preferential_attachment(dataset, by='user'):\n",
    "    if by == 'user':\n",
    "        sum_matrix = dataset.T.sum()\n",
    "    elif by == 'movie':\n",
    "        sum_matrix = dataset.sum()\n",
    "        sum_matrix.index = range(len(sum_matrix))\n",
    "        \n",
    "    ones_matrix = pd.DataFrame(np.ones((len(sum_matrix),len(sum_matrix))))\n",
    "    pa = sum_matrix * ones_matrix * (sum_matrix * ones_matrix).T\n",
    "\n",
    "    return pa"
   ]
  },
  {
   "cell_type": "code",
   "execution_count": 57,
   "metadata": {},
   "outputs": [],
   "source": [
    "def Adamic_Adar(dataset, by='user'):\n",
    "    if by == 'user':\n",
    "        dataset=dataset.T\n",
    "        \n",
    "    element_size = dataset.sum()\n",
    "    element_size[element_size == 0] = 1\n",
    "\n",
    "    log_size = np.log(element_size)\n",
    "    log_size[log_size == 0] = 1\n",
    "\n",
    "    inv_log = 1/log_size\n",
    "\n",
    "    weighted_elem = inv_log*rating_df\n",
    "    sim_matrix = np.dot(rating_df.T, weighted_elem)\n",
    "    \n",
    "    return sim_matrix"
   ]
  },
  {
   "cell_type": "code",
   "execution_count": 163,
   "metadata": {},
   "outputs": [],
   "source": [
    "def TSUISIMCF(train_data, user_sim, movie_sim, k_user, n_movie, users_evaluated):\n",
    "    #list of recommeded movies to users\n",
    "    recommeded_movies = []\n",
    "    \n",
    "    for user in users_evaluated:\n",
    "        #get movies user liked\n",
    "        movies = train_data.loc[user]\n",
    "        liked_movies = list(movies[movies == 1].index)\n",
    "       \n",
    "        #get top k most similar users\n",
    "        top_k = list(user_sim.loc[user].sort_values(ascending=False)[:k_user+1].index)\n",
    "        \n",
    "        if user in top_k:\n",
    "            top_k.remove(user)\n",
    "        else:\n",
    "            top_k = top_k[:k_user]\n",
    "        \n",
    "        #get possible movie recommendations\n",
    "        possible_rec = []\n",
    "        \n",
    "        for top_user in top_k:\n",
    "            movies = train_data.loc[top_user]\n",
    "            user_likes = list(movies[movies == 1].index)\n",
    "                                \n",
    "            for movie in user_likes:\n",
    "                if (movie not in liked_movies) and (movie not in possible_rec):\n",
    "                    possible_rec.append(movie)\n",
    "        \n",
    "        #get score of possible recommendations\n",
    "        rec_scores = []\n",
    "        \n",
    "        for movie in possible_rec:\n",
    "            score = movie_sim.loc[movie, liked_movies].max()\n",
    "            rec_scores.append(score)\n",
    "        \n",
    "        #get top n score index\n",
    "        top_index = np.argpartition(rec_scores,-n_movie)[-n_movie:]\n",
    "        \n",
    "        #get top movie recommendations\n",
    "        for index in top_index:\n",
    "            recommeded_movies.append((user, possible_rec[index]))\n",
    "            \n",
    "    return recommeded_movies"
   ]
  },
  {
   "cell_type": "code",
   "execution_count": 198,
   "metadata": {},
   "outputs": [],
   "source": [
    "def get_metrics(test_set, recommend_list):\n",
    "    true_positive = 0\n",
    "    false_positive = 0\n",
    "    false_negative = 0\n",
    "\n",
    "    for item in recommend_list:\n",
    "        if item in test_set:\n",
    "            true_positive += 1\n",
    "        else:\n",
    "            false_positive += 1\n",
    "\n",
    "    for item in test_set:\n",
    "        if item not in recommend_list:\n",
    "            false_negative+=1\n",
    "\n",
    "    precision = true_positive/(true_positive + false_positive)\n",
    "    recall = true_positive/(true_positive + false_negative)\n",
    "    F1_score = 2*(precision*recall)/(precision + recall)\n",
    "\n",
    "    print(\"Precision :\", precision)\n",
    "    print(\"Recall :\", recall)\n",
    "    print(\"F1 Score :\", F1_score)\n",
    "    \n",
    "    return precision, recall, F1_score"
   ]
  },
  {
   "cell_type": "code",
   "execution_count": 68,
   "metadata": {},
   "outputs": [],
   "source": [
    "#get similarities\n",
    "cn_user = common_neighbors(train_data, by='user')\n",
    "cn_movie = common_neighbors(train_data, by='movie')\n",
    "\n",
    "jc_user = jacard_coefﬁcient(train_data, by='user')\n",
    "jc_movie = jacard_coefﬁcient(train_data, by='movie')\n",
    "\n",
    "pa_user = preferential_attachment(train_data, by='user')\n",
    "pa_movie = preferential_attachment(train_data, by='movie')"
   ]
  },
  {
   "cell_type": "code",
   "execution_count": 164,
   "metadata": {},
   "outputs": [],
   "source": [
    "recommend_list = TSUISIMCF(train_data, cn_user, cn_movie, 10, 5, evaluation_list)"
   ]
  },
  {
   "cell_type": "code",
   "execution_count": 200,
   "metadata": {},
   "outputs": [
    {
     "name": "stdout",
     "output_type": "stream",
     "text": [
      "Precision : 0.26243194192377495\n",
      "Recall : 0.039984514987280166\n",
      "F1 Score : 0.06939578634160387\n"
     ]
    }
   ],
   "source": [
    "results = get_metrics(test_set, recommend_list)"
   ]
  },
  {
   "cell_type": "code",
   "execution_count": 201,
   "metadata": {},
   "outputs": [
    {
     "name": "stdout",
     "output_type": "stream",
     "text": [
      "Precision : 0.08166969147005444\n",
      "Recall : 0.012443313792722044\n",
      "F1 Score : 0.021596199068963862\n"
     ]
    }
   ],
   "source": [
    "#cn_user and jc_movie\n",
    "recommend_list = TSUISIMCF(train_data, cn_user, jc_movie, 10, 5, evaluation_list)\n",
    "results = get_metrics(test_set, recommend_list)"
   ]
  },
  {
   "cell_type": "code",
   "execution_count": 202,
   "metadata": {},
   "outputs": [
    {
     "name": "stdout",
     "output_type": "stream",
     "text": [
      "Precision : 0.22323049001814882\n",
      "Recall : 0.034011724366773584\n",
      "F1 Score : 0.05902961078850122\n"
     ]
    }
   ],
   "source": [
    "#cn_user and pa_movie\n",
    "recommend_list = TSUISIMCF(train_data, cn_user, pa_movie, 10, 5, evaluation_list)\n",
    "results = get_metrics(test_set, recommend_list)"
   ]
  },
  {
   "cell_type": "code",
   "execution_count": 203,
   "metadata": {},
   "outputs": [
    {
     "name": "stdout",
     "output_type": "stream",
     "text": [
      "Precision : 0.2747731397459165\n",
      "Recall : 0.041864837960402614\n",
      "F1 Score : 0.07265921197869175\n"
     ]
    }
   ],
   "source": [
    "#jc_user and cn_movie\n",
    "recommend_list = TSUISIMCF(train_data, jc_user, cn_movie, 10, 5, evaluation_list)\n",
    "results = get_metrics(test_set, recommend_list)"
   ]
  },
  {
   "cell_type": "code",
   "execution_count": 204,
   "metadata": {},
   "outputs": [
    {
     "name": "stdout",
     "output_type": "stream",
     "text": [
      "Precision : 0.16878402903811252\n",
      "Recall : 0.025716181838292225\n",
      "F1 Score : 0.04463214474252532\n"
     ]
    }
   ],
   "source": [
    "#jc_user and jc_movie\n",
    "recommend_list = TSUISIMCF(train_data, jc_user, jc_movie, 10, 5, evaluation_list)\n",
    "results = get_metrics(test_set, recommend_list)"
   ]
  },
  {
   "cell_type": "code",
   "execution_count": 205,
   "metadata": {},
   "outputs": [
    {
     "name": "stdout",
     "output_type": "stream",
     "text": [
      "Precision : 0.24283121597096188\n",
      "Recall : 0.036998119677026875\n",
      "F1 Score : 0.06421269856505256\n"
     ]
    }
   ],
   "source": [
    "#jc_user and pa_movie\n",
    "recommend_list = TSUISIMCF(train_data, jc_user, pa_movie, 10, 5, evaluation_list)\n",
    "results = get_metrics(test_set, recommend_list)"
   ]
  },
  {
   "cell_type": "code",
   "execution_count": 206,
   "metadata": {},
   "outputs": [
    {
     "name": "stdout",
     "output_type": "stream",
     "text": [
      "Precision : 0.2620689655172414\n",
      "Recall : 0.03992921137042363\n",
      "F1 Score : 0.06929980323463071\n"
     ]
    }
   ],
   "source": [
    "#pa_user and cn_movie\n",
    "recommend_list = TSUISIMCF(train_data, pa_user, cn_movie, 10, 5, evaluation_list)\n",
    "results = get_metrics(test_set, recommend_list)"
   ]
  },
  {
   "cell_type": "code",
   "execution_count": 207,
   "metadata": {},
   "outputs": [
    {
     "name": "stdout",
     "output_type": "stream",
     "text": [
      "Precision : 0.08421052631578947\n",
      "Recall : 0.01283043911071784\n",
      "F1 Score : 0.02226808081777607\n"
     ]
    }
   ],
   "source": [
    "#pa_user and jc_movie\n",
    "recommend_list = TSUISIMCF(train_data, pa_user, jc_movie, 10, 5, evaluation_list)\n",
    "results = get_metrics(test_set, recommend_list)"
   ]
  },
  {
   "cell_type": "code",
   "execution_count": 208,
   "metadata": {},
   "outputs": [
    {
     "name": "stdout",
     "output_type": "stream",
     "text": [
      "Precision : 0.22250453720508168\n",
      "Recall : 0.0339011171330605\n",
      "F1 Score : 0.058837644574554884\n"
     ]
    }
   ],
   "source": [
    "#pa_user and pa_movie\n",
    "recommend_list = TSUISIMCF(train_data, pa_user, pa_movie, 10, 5, evaluation_list)\n",
    "results = get_metrics(test_set, recommend_list)"
   ]
  },
  {
   "cell_type": "code",
   "execution_count": 16,
   "metadata": {
    "scrolled": true
   },
   "outputs": [
    {
     "data": {
      "text/html": [
       "<div>\n",
       "<style scoped>\n",
       "    .dataframe tbody tr th:only-of-type {\n",
       "        vertical-align: middle;\n",
       "    }\n",
       "\n",
       "    .dataframe tbody tr th {\n",
       "        vertical-align: top;\n",
       "    }\n",
       "\n",
       "    .dataframe thead th {\n",
       "        text-align: right;\n",
       "    }\n",
       "</style>\n",
       "<table border=\"1\" class=\"dataframe\">\n",
       "  <thead>\n",
       "    <tr style=\"text-align: right;\">\n",
       "      <th></th>\n",
       "      <th>0</th>\n",
       "      <th>1</th>\n",
       "      <th>2</th>\n",
       "      <th>3</th>\n",
       "      <th>4</th>\n",
       "      <th>5</th>\n",
       "      <th>6</th>\n",
       "      <th>7</th>\n",
       "      <th>8</th>\n",
       "      <th>9</th>\n",
       "      <th>...</th>\n",
       "      <th>7353</th>\n",
       "      <th>7354</th>\n",
       "      <th>7355</th>\n",
       "      <th>7356</th>\n",
       "      <th>7357</th>\n",
       "      <th>7358</th>\n",
       "      <th>7359</th>\n",
       "      <th>7360</th>\n",
       "      <th>7361</th>\n",
       "      <th>7362</th>\n",
       "    </tr>\n",
       "  </thead>\n",
       "  <tbody>\n",
       "    <tr>\n",
       "      <th>0</th>\n",
       "      <td>1.0</td>\n",
       "      <td>0.0</td>\n",
       "      <td>1.0</td>\n",
       "      <td>0.0</td>\n",
       "      <td>1.0</td>\n",
       "      <td>0.0</td>\n",
       "      <td>0</td>\n",
       "      <td>0.0</td>\n",
       "      <td>0.0</td>\n",
       "      <td>0.0</td>\n",
       "      <td>...</td>\n",
       "      <td>0.0</td>\n",
       "      <td>0.0</td>\n",
       "      <td>0</td>\n",
       "      <td>0</td>\n",
       "      <td>0.0</td>\n",
       "      <td>0</td>\n",
       "      <td>0.0</td>\n",
       "      <td>0.0</td>\n",
       "      <td>0.0</td>\n",
       "      <td>0</td>\n",
       "    </tr>\n",
       "    <tr>\n",
       "      <th>1</th>\n",
       "      <td>0.0</td>\n",
       "      <td>0.0</td>\n",
       "      <td>0.0</td>\n",
       "      <td>0.0</td>\n",
       "      <td>0.0</td>\n",
       "      <td>0.0</td>\n",
       "      <td>0</td>\n",
       "      <td>0.0</td>\n",
       "      <td>0.0</td>\n",
       "      <td>0.0</td>\n",
       "      <td>...</td>\n",
       "      <td>0.0</td>\n",
       "      <td>0.0</td>\n",
       "      <td>0</td>\n",
       "      <td>0</td>\n",
       "      <td>0.0</td>\n",
       "      <td>0</td>\n",
       "      <td>0.0</td>\n",
       "      <td>0.0</td>\n",
       "      <td>0.0</td>\n",
       "      <td>0</td>\n",
       "    </tr>\n",
       "    <tr>\n",
       "      <th>2</th>\n",
       "      <td>0.0</td>\n",
       "      <td>0.0</td>\n",
       "      <td>0.0</td>\n",
       "      <td>0.0</td>\n",
       "      <td>0.0</td>\n",
       "      <td>0.0</td>\n",
       "      <td>0</td>\n",
       "      <td>0.0</td>\n",
       "      <td>0.0</td>\n",
       "      <td>0.0</td>\n",
       "      <td>...</td>\n",
       "      <td>0.0</td>\n",
       "      <td>0.0</td>\n",
       "      <td>0</td>\n",
       "      <td>0</td>\n",
       "      <td>0.0</td>\n",
       "      <td>0</td>\n",
       "      <td>0.0</td>\n",
       "      <td>0.0</td>\n",
       "      <td>0.0</td>\n",
       "      <td>0</td>\n",
       "    </tr>\n",
       "    <tr>\n",
       "      <th>3</th>\n",
       "      <td>0.0</td>\n",
       "      <td>0.0</td>\n",
       "      <td>0.0</td>\n",
       "      <td>0.0</td>\n",
       "      <td>0.0</td>\n",
       "      <td>0.0</td>\n",
       "      <td>0</td>\n",
       "      <td>0.0</td>\n",
       "      <td>0.0</td>\n",
       "      <td>0.0</td>\n",
       "      <td>...</td>\n",
       "      <td>0.0</td>\n",
       "      <td>0.0</td>\n",
       "      <td>0</td>\n",
       "      <td>0</td>\n",
       "      <td>0.0</td>\n",
       "      <td>0</td>\n",
       "      <td>0.0</td>\n",
       "      <td>0.0</td>\n",
       "      <td>0.0</td>\n",
       "      <td>0</td>\n",
       "    </tr>\n",
       "    <tr>\n",
       "      <th>4</th>\n",
       "      <td>1.0</td>\n",
       "      <td>0.0</td>\n",
       "      <td>0.0</td>\n",
       "      <td>0.0</td>\n",
       "      <td>0.0</td>\n",
       "      <td>0.0</td>\n",
       "      <td>0</td>\n",
       "      <td>0.0</td>\n",
       "      <td>0.0</td>\n",
       "      <td>0.0</td>\n",
       "      <td>...</td>\n",
       "      <td>0.0</td>\n",
       "      <td>0.0</td>\n",
       "      <td>0</td>\n",
       "      <td>0</td>\n",
       "      <td>0.0</td>\n",
       "      <td>0</td>\n",
       "      <td>0.0</td>\n",
       "      <td>0.0</td>\n",
       "      <td>0.0</td>\n",
       "      <td>0</td>\n",
       "    </tr>\n",
       "    <tr>\n",
       "      <th>...</th>\n",
       "      <td>...</td>\n",
       "      <td>...</td>\n",
       "      <td>...</td>\n",
       "      <td>...</td>\n",
       "      <td>...</td>\n",
       "      <td>...</td>\n",
       "      <td>...</td>\n",
       "      <td>...</td>\n",
       "      <td>...</td>\n",
       "      <td>...</td>\n",
       "      <td>...</td>\n",
       "      <td>...</td>\n",
       "      <td>...</td>\n",
       "      <td>...</td>\n",
       "      <td>...</td>\n",
       "      <td>...</td>\n",
       "      <td>...</td>\n",
       "      <td>...</td>\n",
       "      <td>...</td>\n",
       "      <td>...</td>\n",
       "      <td>...</td>\n",
       "    </tr>\n",
       "    <tr>\n",
       "      <th>604</th>\n",
       "      <td>0.0</td>\n",
       "      <td>0.0</td>\n",
       "      <td>0.0</td>\n",
       "      <td>0.0</td>\n",
       "      <td>0.0</td>\n",
       "      <td>0.0</td>\n",
       "      <td>0</td>\n",
       "      <td>0.0</td>\n",
       "      <td>0.0</td>\n",
       "      <td>0.0</td>\n",
       "      <td>...</td>\n",
       "      <td>0.0</td>\n",
       "      <td>0.0</td>\n",
       "      <td>0</td>\n",
       "      <td>0</td>\n",
       "      <td>0.0</td>\n",
       "      <td>0</td>\n",
       "      <td>0.0</td>\n",
       "      <td>0.0</td>\n",
       "      <td>0.0</td>\n",
       "      <td>0</td>\n",
       "    </tr>\n",
       "    <tr>\n",
       "      <th>605</th>\n",
       "      <td>1.0</td>\n",
       "      <td>0.0</td>\n",
       "      <td>0.0</td>\n",
       "      <td>0.0</td>\n",
       "      <td>0.0</td>\n",
       "      <td>0.0</td>\n",
       "      <td>0</td>\n",
       "      <td>0.0</td>\n",
       "      <td>0.0</td>\n",
       "      <td>0.0</td>\n",
       "      <td>...</td>\n",
       "      <td>0.0</td>\n",
       "      <td>0.0</td>\n",
       "      <td>0</td>\n",
       "      <td>0</td>\n",
       "      <td>0.0</td>\n",
       "      <td>0</td>\n",
       "      <td>0.0</td>\n",
       "      <td>0.0</td>\n",
       "      <td>0.0</td>\n",
       "      <td>0</td>\n",
       "    </tr>\n",
       "    <tr>\n",
       "      <th>606</th>\n",
       "      <td>0.0</td>\n",
       "      <td>0.0</td>\n",
       "      <td>0.0</td>\n",
       "      <td>0.0</td>\n",
       "      <td>0.0</td>\n",
       "      <td>0.0</td>\n",
       "      <td>0</td>\n",
       "      <td>0.0</td>\n",
       "      <td>1.0</td>\n",
       "      <td>0.0</td>\n",
       "      <td>...</td>\n",
       "      <td>0.0</td>\n",
       "      <td>0.0</td>\n",
       "      <td>0</td>\n",
       "      <td>0</td>\n",
       "      <td>0.0</td>\n",
       "      <td>0</td>\n",
       "      <td>0.0</td>\n",
       "      <td>0.0</td>\n",
       "      <td>0.0</td>\n",
       "      <td>0</td>\n",
       "    </tr>\n",
       "    <tr>\n",
       "      <th>607</th>\n",
       "      <td>0.0</td>\n",
       "      <td>0.0</td>\n",
       "      <td>0.0</td>\n",
       "      <td>0.0</td>\n",
       "      <td>0.0</td>\n",
       "      <td>0.0</td>\n",
       "      <td>0</td>\n",
       "      <td>0.0</td>\n",
       "      <td>1.0</td>\n",
       "      <td>0.0</td>\n",
       "      <td>...</td>\n",
       "      <td>0.0</td>\n",
       "      <td>0.0</td>\n",
       "      <td>0</td>\n",
       "      <td>0</td>\n",
       "      <td>0.0</td>\n",
       "      <td>0</td>\n",
       "      <td>0.0</td>\n",
       "      <td>0.0</td>\n",
       "      <td>0.0</td>\n",
       "      <td>0</td>\n",
       "    </tr>\n",
       "    <tr>\n",
       "      <th>608</th>\n",
       "      <td>1.0</td>\n",
       "      <td>0.0</td>\n",
       "      <td>0.0</td>\n",
       "      <td>0.0</td>\n",
       "      <td>1.0</td>\n",
       "      <td>0.0</td>\n",
       "      <td>0</td>\n",
       "      <td>0.0</td>\n",
       "      <td>0.0</td>\n",
       "      <td>0.0</td>\n",
       "      <td>...</td>\n",
       "      <td>0.0</td>\n",
       "      <td>0.0</td>\n",
       "      <td>0</td>\n",
       "      <td>0</td>\n",
       "      <td>0.0</td>\n",
       "      <td>0</td>\n",
       "      <td>0.0</td>\n",
       "      <td>0.0</td>\n",
       "      <td>0.0</td>\n",
       "      <td>0</td>\n",
       "    </tr>\n",
       "  </tbody>\n",
       "</table>\n",
       "<p>609 rows × 7363 columns</p>\n",
       "</div>"
      ],
      "text/plain": [
       "     0     1     2     3     4     5     6     7     8     9     ...  7353  \\\n",
       "0     1.0   0.0   1.0   0.0   1.0   0.0     0   0.0   0.0   0.0  ...   0.0   \n",
       "1     0.0   0.0   0.0   0.0   0.0   0.0     0   0.0   0.0   0.0  ...   0.0   \n",
       "2     0.0   0.0   0.0   0.0   0.0   0.0     0   0.0   0.0   0.0  ...   0.0   \n",
       "3     0.0   0.0   0.0   0.0   0.0   0.0     0   0.0   0.0   0.0  ...   0.0   \n",
       "4     1.0   0.0   0.0   0.0   0.0   0.0     0   0.0   0.0   0.0  ...   0.0   \n",
       "..    ...   ...   ...   ...   ...   ...   ...   ...   ...   ...  ...   ...   \n",
       "604   0.0   0.0   0.0   0.0   0.0   0.0     0   0.0   0.0   0.0  ...   0.0   \n",
       "605   1.0   0.0   0.0   0.0   0.0   0.0     0   0.0   0.0   0.0  ...   0.0   \n",
       "606   0.0   0.0   0.0   0.0   0.0   0.0     0   0.0   1.0   0.0  ...   0.0   \n",
       "607   0.0   0.0   0.0   0.0   0.0   0.0     0   0.0   1.0   0.0  ...   0.0   \n",
       "608   1.0   0.0   0.0   0.0   1.0   0.0     0   0.0   0.0   0.0  ...   0.0   \n",
       "\n",
       "     7354  7355  7356  7357  7358  7359  7360  7361  7362  \n",
       "0     0.0     0     0   0.0     0   0.0   0.0   0.0     0  \n",
       "1     0.0     0     0   0.0     0   0.0   0.0   0.0     0  \n",
       "2     0.0     0     0   0.0     0   0.0   0.0   0.0     0  \n",
       "3     0.0     0     0   0.0     0   0.0   0.0   0.0     0  \n",
       "4     0.0     0     0   0.0     0   0.0   0.0   0.0     0  \n",
       "..    ...   ...   ...   ...   ...   ...   ...   ...   ...  \n",
       "604   0.0     0     0   0.0     0   0.0   0.0   0.0     0  \n",
       "605   0.0     0     0   0.0     0   0.0   0.0   0.0     0  \n",
       "606   0.0     0     0   0.0     0   0.0   0.0   0.0     0  \n",
       "607   0.0     0     0   0.0     0   0.0   0.0   0.0     0  \n",
       "608   0.0     0     0   0.0     0   0.0   0.0   0.0     0  \n",
       "\n",
       "[609 rows x 7363 columns]"
      ]
     },
     "execution_count": 16,
     "metadata": {},
     "output_type": "execute_result"
    }
   ],
   "source": [
    "rating_df"
   ]
  },
  {
   "cell_type": "code",
   "execution_count": 48,
   "metadata": {},
   "outputs": [],
   "source": [
    "element_size = rating_df.sum()\n",
    "element_size[element_size == 0] = 1\n",
    "\n",
    "log_size = np.log(element_size)\n",
    "log_size[log_size == 0] = 1\n",
    "\n",
    "inv_log = 1/log_size\n",
    "\n",
    "weighted_elem = inv_log*rating_df"
   ]
  },
  {
   "cell_type": "code",
   "execution_count": 52,
   "metadata": {},
   "outputs": [],
   "source": [
    "sim_matrix = np.dot(rating_df.T, weighted_elem)"
   ]
  },
  {
   "cell_type": "code",
   "execution_count": 55,
   "metadata": {},
   "outputs": [
    {
     "data": {
      "text/plain": [
       "(9724, 9724)"
      ]
     },
     "execution_count": 55,
     "metadata": {},
     "output_type": "execute_result"
    }
   ],
   "source": [
    "sim_matrix.shape"
   ]
  },
  {
   "cell_type": "code",
   "execution_count": 58,
   "metadata": {},
   "outputs": [
    {
     "data": {
      "text/plain": [
       "array([[32.31526871,  7.54097572,  4.46500584, ...,  0.        ,\n",
       "         0.        ,  0.        ],\n",
       "       [ 6.07135351, 14.83869416,  1.59464494, ...,  0.        ,\n",
       "         0.        ,  0.        ],\n",
       "       [ 2.74190159,  1.21628641,  7.33536674, ...,  0.        ,\n",
       "         0.        ,  0.        ],\n",
       "       ...,\n",
       "       [ 0.        ,  0.        ,  0.        , ...,  1.        ,\n",
       "         1.        ,  0.        ],\n",
       "       [ 0.        ,  0.        ,  0.        , ...,  1.        ,\n",
       "         1.        ,  0.        ],\n",
       "       [ 0.        ,  0.        ,  0.        , ...,  0.        ,\n",
       "         0.        ,  1.        ]])"
      ]
     },
     "execution_count": 58,
     "metadata": {},
     "output_type": "execute_result"
    }
   ],
   "source": [
    "np.dot(rating_df.T, weighted_elem)"
   ]
  },
  {
   "cell_type": "code",
   "execution_count": 60,
   "metadata": {},
   "outputs": [
    {
     "data": {
      "text/plain": [
       "(9724, 9724)"
      ]
     },
     "execution_count": 60,
     "metadata": {},
     "output_type": "execute_result"
    }
   ],
   "source": [
    "np.dot(weighted_elem.T, rating_df)"
   ]
  },
  {
   "cell_type": "code",
   "execution_count": 64,
   "metadata": {},
   "outputs": [
    {
     "data": {
      "text/plain": [
       "0.3898712452512801"
      ]
     },
     "execution_count": 64,
     "metadata": {},
     "output_type": "execute_result"
    }
   ],
   "source": [
    "sim_matrix[25][4]"
   ]
  },
  {
   "cell_type": "code",
   "execution_count": 80,
   "metadata": {},
   "outputs": [],
   "source": [
    "import time"
   ]
  },
  {
   "cell_type": "code",
   "execution_count": 85,
   "metadata": {},
   "outputs": [
    {
     "data": {
      "text/plain": [
       "145.39290404319763"
      ]
     },
     "execution_count": 85,
     "metadata": {},
     "output_type": "execute_result"
    }
   ],
   "source": [
    "t = time.time()\n",
    "\n",
    "for user_ind1 in range(100):\n",
    "    for user_ind2 in range(user_ind1+1, 100):\n",
    "        sim_score = sum(rating_df.T[user_ind1]*rating_df.T[user_ind2]*inv_log)\n",
    "        \n",
    "time.time() - t"
   ]
  },
  {
   "cell_type": "code",
   "execution_count": 79,
   "metadata": {},
   "outputs": [
    {
     "data": {
      "text/plain": [
       "0.753274874708207"
      ]
     },
     "execution_count": 79,
     "metadata": {},
     "output_type": "execute_result"
    }
   ],
   "source": [
    "sum(rating_df.T[10]*rating_df.T[13]*inv_log)"
   ]
  },
  {
   "cell_type": "code",
   "execution_count": 74,
   "metadata": {},
   "outputs": [
    {
     "data": {
      "text/plain": [
       "0       0.195850\n",
       "1       0.243257\n",
       "2       0.318929\n",
       "3       1.000000\n",
       "4       0.389871\n",
       "          ...   \n",
       "9719    1.000000\n",
       "9720    1.000000\n",
       "9721    1.000000\n",
       "9722    1.000000\n",
       "9723    1.000000\n",
       "Length: 9724, dtype: float64"
      ]
     },
     "execution_count": 74,
     "metadata": {},
     "output_type": "execute_result"
    }
   ],
   "source": [
    "inv_log"
   ]
  },
  {
   "cell_type": "code",
   "execution_count": 86,
   "metadata": {},
   "outputs": [
    {
     "data": {
      "text/plain": [
       "array([[0, 0, 1],\n",
       "       [0, 1, 0]])"
      ]
     },
     "execution_count": 86,
     "metadata": {},
     "output_type": "execute_result"
    }
   ],
   "source": [
    "le_input = np.array([\n",
    "    [0, 0, 1],\n",
    "    [0, 1, 0]\n",
    "])\n",
    "\n",
    "le_input"
   ]
  },
  {
   "cell_type": "code",
   "execution_count": 88,
   "metadata": {},
   "outputs": [],
   "source": [
    "ra = np.array(rating_df)\n",
    "a = np.einsum('ik,jk->ijk', le_input, le_input)"
   ]
  },
  {
   "cell_type": "code",
   "execution_count": 89,
   "metadata": {},
   "outputs": [
    {
     "data": {
      "text/plain": [
       "(2, 2, 3)"
      ]
     },
     "execution_count": 89,
     "metadata": {},
     "output_type": "execute_result"
    }
   ],
   "source": [
    "a.shape"
   ]
  },
  {
   "cell_type": "code",
   "execution_count": 93,
   "metadata": {},
   "outputs": [],
   "source": [
    "ra = np.array(rating_df)\n",
    "mult_ = np.einsum('ik,jk->ijk', rating_df, rating_df)"
   ]
  },
  {
   "cell_type": "code",
   "execution_count": 102,
   "metadata": {},
   "outputs": [
    {
     "data": {
      "text/plain": [
       "(9724,)"
      ]
     },
     "execution_count": 102,
     "metadata": {},
     "output_type": "execute_result"
    }
   ],
   "source": [
    "mult_[0][4]"
   ]
  },
  {
   "cell_type": "code",
   "execution_count": 104,
   "metadata": {},
   "outputs": [
    {
     "data": {
      "text/plain": [
       "8.0"
      ]
     },
     "execution_count": 104,
     "metadata": {},
     "output_type": "execute_result"
    }
   ],
   "source": [
    "sum(rating_df[0]*rating_df[4])"
   ]
  },
  {
   "cell_type": "code",
   "execution_count": 108,
   "metadata": {},
   "outputs": [
    {
     "data": {
      "text/plain": [
       "180.0629448890686"
      ]
     },
     "execution_count": 108,
     "metadata": {},
     "output_type": "execute_result"
    }
   ],
   "source": [
    "t = time.time()\n",
    "\n",
    "for user_ind1 in range(610):\n",
    "    for user_ind2 in range(user_ind1+1, 610):\n",
    "        sim_score = sum(mult_[user_ind1][user_ind2]*inv_log)\n",
    "        \n",
    "time.time() - t"
   ]
  },
  {
   "cell_type": "code",
   "execution_count": null,
   "metadata": {},
   "outputs": [],
   "source": [
    "mult_*inv_log"
   ]
  },
  {
   "cell_type": "code",
   "execution_count": null,
   "metadata": {},
   "outputs": [],
   "source": []
  }
 ],
 "metadata": {
  "kernelspec": {
   "display_name": "Python 3",
   "language": "python",
   "name": "python3"
  },
  "language_info": {
   "codemirror_mode": {
    "name": "ipython",
    "version": 3
   },
   "file_extension": ".py",
   "mimetype": "text/x-python",
   "name": "python",
   "nbconvert_exporter": "python",
   "pygments_lexer": "ipython3",
   "version": "3.8.3"
  }
 },
 "nbformat": 4,
 "nbformat_minor": 4
}
