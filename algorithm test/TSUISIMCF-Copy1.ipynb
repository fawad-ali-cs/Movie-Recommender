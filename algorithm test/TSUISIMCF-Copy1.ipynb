{
 "cells": [
  {
   "cell_type": "code",
   "execution_count": 6,
   "metadata": {},
   "outputs": [],
   "source": [
    "import pandas as pd\n",
    "import numpy as np\n",
    "import random\n",
    "\n",
    "from functions import train_test"
   ]
  },
  {
   "cell_type": "code",
   "execution_count": 2,
   "metadata": {},
   "outputs": [],
   "source": [
    "rating_df = pd.read_csv('data/user_rating_pt.csv')\n",
    "rating_df.columns = rating_df.columns.astype(int)"
   ]
  },
  {
   "cell_type": "code",
   "execution_count": 3,
   "metadata": {},
   "outputs": [
    {
     "data": {
      "text/html": [
       "<div>\n",
       "<style scoped>\n",
       "    .dataframe tbody tr th:only-of-type {\n",
       "        vertical-align: middle;\n",
       "    }\n",
       "\n",
       "    .dataframe tbody tr th {\n",
       "        vertical-align: top;\n",
       "    }\n",
       "\n",
       "    .dataframe thead th {\n",
       "        text-align: right;\n",
       "    }\n",
       "</style>\n",
       "<table border=\"1\" class=\"dataframe\">\n",
       "  <thead>\n",
       "    <tr style=\"text-align: right;\">\n",
       "      <th></th>\n",
       "      <th>0</th>\n",
       "      <th>1</th>\n",
       "      <th>2</th>\n",
       "      <th>3</th>\n",
       "      <th>4</th>\n",
       "      <th>5</th>\n",
       "      <th>6</th>\n",
       "      <th>7</th>\n",
       "      <th>8</th>\n",
       "      <th>9</th>\n",
       "      <th>...</th>\n",
       "      <th>9714</th>\n",
       "      <th>9715</th>\n",
       "      <th>9716</th>\n",
       "      <th>9717</th>\n",
       "      <th>9718</th>\n",
       "      <th>9719</th>\n",
       "      <th>9720</th>\n",
       "      <th>9721</th>\n",
       "      <th>9722</th>\n",
       "      <th>9723</th>\n",
       "    </tr>\n",
       "  </thead>\n",
       "  <tbody>\n",
       "    <tr>\n",
       "      <th>0</th>\n",
       "      <td>1.0</td>\n",
       "      <td>0.0</td>\n",
       "      <td>1.0</td>\n",
       "      <td>0.0</td>\n",
       "      <td>0.0</td>\n",
       "      <td>1.0</td>\n",
       "      <td>0.0</td>\n",
       "      <td>0</td>\n",
       "      <td>0.0</td>\n",
       "      <td>0.0</td>\n",
       "      <td>...</td>\n",
       "      <td>0.0</td>\n",
       "      <td>0</td>\n",
       "      <td>0</td>\n",
       "      <td>0</td>\n",
       "      <td>0.0</td>\n",
       "      <td>0</td>\n",
       "      <td>0.0</td>\n",
       "      <td>0.0</td>\n",
       "      <td>0.0</td>\n",
       "      <td>0</td>\n",
       "    </tr>\n",
       "    <tr>\n",
       "      <th>1</th>\n",
       "      <td>0.0</td>\n",
       "      <td>0.0</td>\n",
       "      <td>0.0</td>\n",
       "      <td>0.0</td>\n",
       "      <td>0.0</td>\n",
       "      <td>0.0</td>\n",
       "      <td>0.0</td>\n",
       "      <td>0</td>\n",
       "      <td>0.0</td>\n",
       "      <td>0.0</td>\n",
       "      <td>...</td>\n",
       "      <td>0.0</td>\n",
       "      <td>0</td>\n",
       "      <td>0</td>\n",
       "      <td>0</td>\n",
       "      <td>0.0</td>\n",
       "      <td>0</td>\n",
       "      <td>0.0</td>\n",
       "      <td>0.0</td>\n",
       "      <td>0.0</td>\n",
       "      <td>0</td>\n",
       "    </tr>\n",
       "    <tr>\n",
       "      <th>2</th>\n",
       "      <td>0.0</td>\n",
       "      <td>0.0</td>\n",
       "      <td>0.0</td>\n",
       "      <td>0.0</td>\n",
       "      <td>0.0</td>\n",
       "      <td>0.0</td>\n",
       "      <td>0.0</td>\n",
       "      <td>0</td>\n",
       "      <td>0.0</td>\n",
       "      <td>0.0</td>\n",
       "      <td>...</td>\n",
       "      <td>0.0</td>\n",
       "      <td>0</td>\n",
       "      <td>0</td>\n",
       "      <td>0</td>\n",
       "      <td>0.0</td>\n",
       "      <td>0</td>\n",
       "      <td>0.0</td>\n",
       "      <td>0.0</td>\n",
       "      <td>0.0</td>\n",
       "      <td>0</td>\n",
       "    </tr>\n",
       "    <tr>\n",
       "      <th>3</th>\n",
       "      <td>0.0</td>\n",
       "      <td>0.0</td>\n",
       "      <td>0.0</td>\n",
       "      <td>0.0</td>\n",
       "      <td>0.0</td>\n",
       "      <td>0.0</td>\n",
       "      <td>0.0</td>\n",
       "      <td>0</td>\n",
       "      <td>0.0</td>\n",
       "      <td>0.0</td>\n",
       "      <td>...</td>\n",
       "      <td>0.0</td>\n",
       "      <td>0</td>\n",
       "      <td>0</td>\n",
       "      <td>0</td>\n",
       "      <td>0.0</td>\n",
       "      <td>0</td>\n",
       "      <td>0.0</td>\n",
       "      <td>0.0</td>\n",
       "      <td>0.0</td>\n",
       "      <td>0</td>\n",
       "    </tr>\n",
       "    <tr>\n",
       "      <th>4</th>\n",
       "      <td>1.0</td>\n",
       "      <td>0.0</td>\n",
       "      <td>0.0</td>\n",
       "      <td>0.0</td>\n",
       "      <td>0.0</td>\n",
       "      <td>0.0</td>\n",
       "      <td>0.0</td>\n",
       "      <td>0</td>\n",
       "      <td>0.0</td>\n",
       "      <td>0.0</td>\n",
       "      <td>...</td>\n",
       "      <td>0.0</td>\n",
       "      <td>0</td>\n",
       "      <td>0</td>\n",
       "      <td>0</td>\n",
       "      <td>0.0</td>\n",
       "      <td>0</td>\n",
       "      <td>0.0</td>\n",
       "      <td>0.0</td>\n",
       "      <td>0.0</td>\n",
       "      <td>0</td>\n",
       "    </tr>\n",
       "  </tbody>\n",
       "</table>\n",
       "<p>5 rows × 9724 columns</p>\n",
       "</div>"
      ],
      "text/plain": [
       "   0     1     2     3     4     5     6     7     8     9     ...  9714  \\\n",
       "0   1.0   0.0   1.0   0.0   0.0   1.0   0.0     0   0.0   0.0  ...   0.0   \n",
       "1   0.0   0.0   0.0   0.0   0.0   0.0   0.0     0   0.0   0.0  ...   0.0   \n",
       "2   0.0   0.0   0.0   0.0   0.0   0.0   0.0     0   0.0   0.0  ...   0.0   \n",
       "3   0.0   0.0   0.0   0.0   0.0   0.0   0.0     0   0.0   0.0  ...   0.0   \n",
       "4   1.0   0.0   0.0   0.0   0.0   0.0   0.0     0   0.0   0.0  ...   0.0   \n",
       "\n",
       "   9715  9716  9717  9718  9719  9720  9721  9722  9723  \n",
       "0     0     0     0   0.0     0   0.0   0.0   0.0     0  \n",
       "1     0     0     0   0.0     0   0.0   0.0   0.0     0  \n",
       "2     0     0     0   0.0     0   0.0   0.0   0.0     0  \n",
       "3     0     0     0   0.0     0   0.0   0.0   0.0     0  \n",
       "4     0     0     0   0.0     0   0.0   0.0   0.0     0  \n",
       "\n",
       "[5 rows x 9724 columns]"
      ]
     },
     "execution_count": 3,
     "metadata": {},
     "output_type": "execute_result"
    }
   ],
   "source": [
    "#filter if a user liked a movie with by a certain rating.\n",
    "#Values will be 1 if they like a movie, 0 if they don't or have not seen the movie\n",
    "rating_treshold = 3.5\n",
    "\n",
    "rating_df[rating_df < rating_treshold] = 0\n",
    "rating_df[rating_df >= rating_treshold] = 1\n",
    "rating_df.columns = range(len(rating_df.columns))\n",
    "\n",
    "rating_df.head()"
   ]
  },
  {
   "cell_type": "code",
   "execution_count": 4,
   "metadata": {
    "scrolled": true
   },
   "outputs": [],
   "source": [
    "rating_matrix = np.array(rating_df)"
   ]
  },
  {
   "cell_type": "code",
   "execution_count": 7,
   "metadata": {},
   "outputs": [],
   "source": [
    "known = []\n",
    "\n",
    "for u in range(rating_matrix.shape[0]):\n",
    "    for i in range(rating_matrix.shape[1]):\n",
    "        if rating_matrix[u,i] > 0:\n",
    "            known.append((u, i))\n",
    "\n",
    "training, testing = train_test(known, test_size=0.3)"
   ]
  },
  {
   "cell_type": "code",
   "execution_count": 20,
   "metadata": {},
   "outputs": [],
   "source": [
    "train_matrix = np.zeros((rating_matrix.shape[0], rating_matrix.shape[1]))\n",
    "test_matrix = np.zeros((rating_matrix.shape[0], rating_matrix.shape[1]))\n",
    "\n",
    "for u, i in training:\n",
    "    train_matrix[u][i] = 1\n",
    "\n",
    "for u, i in testing:\n",
    "    test_matrix[u][i] = 1\n",
    "    \n",
    "train_matrix = pd.DataFrame(train_matrix)\n",
    "test_matrix = pd.DataFrame(test_matrix)"
   ]
  },
  {
   "cell_type": "code",
   "execution_count": 10,
   "metadata": {},
   "outputs": [],
   "source": [
    "def get_metrics(test_set, recommend_list):\n",
    "    true_positive = 0\n",
    "    false_positive = 0\n",
    "    false_negative = 0\n",
    "\n",
    "    for item in recommend_list:\n",
    "        if item in test_set:\n",
    "            true_positive += 1\n",
    "        else:\n",
    "            false_positive += 1\n",
    "\n",
    "    for item in test_set:\n",
    "        if item not in recommend_list:\n",
    "            false_negative+=1\n",
    "\n",
    "    precision = true_positive/(true_positive + false_positive)\n",
    "    recall = true_positive/(true_positive + false_negative)\n",
    "    F1_score = 2*(precision*recall)/(precision + recall)\n",
    "\n",
    "    print(\"Precision :\", precision)\n",
    "    print(\"Recall :\", recall)\n",
    "    print(\"F1 Score :\", F1_score)\n",
    "    \n",
    "    return precision, recall, F1_score"
   ]
  },
  {
   "cell_type": "code",
   "execution_count": 11,
   "metadata": {},
   "outputs": [],
   "source": [
    "def common_neighbors(dataset, by='user'):\n",
    "    #since values are either 1 or 0, the dot product of two users/movies \n",
    "    #is used to find the number of common neighbors \n",
    "    if by == 'user':\n",
    "        common_matrix = np.dot(dataset, dataset.T)\n",
    "    elif by == 'movie':\n",
    "        common_matrix = np.dot(dataset.T, dataset)\n",
    "    \n",
    "    return pd.DataFrame(common_matrix)\n"
   ]
  },
  {
   "cell_type": "code",
   "execution_count": 12,
   "metadata": {},
   "outputs": [],
   "source": [
    "def jacard_coefﬁcient(dataset, by='user'):\n",
    "    if by == 'user':\n",
    "        jc = common_neighbors(dataset, by='user')\n",
    "        sum_matrix = dataset.T.sum()      \n",
    "        \n",
    "    elif by == 'movie':\n",
    "        jc = common_neighbors(dataset, by='movie') \n",
    "        sum_matrix = dataset.sum()\n",
    "        sum_matrix.index = range(len(sum_matrix))\n",
    "        \n",
    "    size = len(jc)\n",
    "    ones_matrix = pd.DataFrame(np.ones((size,size)))\n",
    "    \n",
    "    #get size of the union of two users or movies\n",
    "    union_count = (sum_matrix * ones_matrix).T + (sum_matrix * ones_matrix) - jc\n",
    "    \n",
    "    jc = jc/union_count\n",
    "    \n",
    "    jc = jc.fillna(0)\n",
    "    \n",
    "    return jc"
   ]
  },
  {
   "cell_type": "code",
   "execution_count": 13,
   "metadata": {},
   "outputs": [],
   "source": [
    "def preferential_attachment(dataset, by='user'):\n",
    "    if by == 'user':\n",
    "        sum_matrix = dataset.T.sum()\n",
    "    elif by == 'movie':\n",
    "        sum_matrix = dataset.sum()\n",
    "        sum_matrix.index = range(len(sum_matrix))\n",
    "        \n",
    "    ones_matrix = pd.DataFrame(np.ones((len(sum_matrix),len(sum_matrix))))\n",
    "    pa = sum_matrix * ones_matrix * (sum_matrix * ones_matrix).T\n",
    "\n",
    "    return pa"
   ]
  },
  {
   "cell_type": "code",
   "execution_count": 25,
   "metadata": {},
   "outputs": [],
   "source": [
    "def TSUISIMCF(train_data, user_sim, movie_sim, k_user, n_movie, users_evaluated):\n",
    "    #list of recommeded movies to users\n",
    "    recommeded_movies = []\n",
    "    \n",
    "    for user in users_evaluated:\n",
    "        #get movies user liked\n",
    "        movies = train_data.loc[user]\n",
    "        liked_movies = list(movies[movies == 1].index)\n",
    "       \n",
    "        #get top k most similar users\n",
    "        top_k = list(user_sim.loc[user].sort_values(ascending=False)[:k_user+1].index)\n",
    "        \n",
    "        if user in top_k:\n",
    "            top_k.remove(user)\n",
    "        else:\n",
    "            top_k = top_k[:k_user]\n",
    "        \n",
    "        #get possible movie recommendations\n",
    "        possible_rec = []\n",
    "        \n",
    "        for top_user in top_k:\n",
    "            movies = train_data.loc[top_user]\n",
    "            user_likes = list(movies[movies == 1].index)\n",
    "                                \n",
    "            for movie in user_likes:\n",
    "                if (movie not in liked_movies) and (movie not in possible_rec):\n",
    "                    possible_rec.append(movie)\n",
    "        \n",
    "        #get score of possible recommendations\n",
    "        rec_scores = []\n",
    "        \n",
    "        for movie in possible_rec:\n",
    "            score = movie_sim.loc[movie, liked_movies].max()\n",
    "            rec_scores.append(score)\n",
    "        \n",
    "        #get top n score index\n",
    "        top_index = np.argpartition(rec_scores,-n_movie)[-n_movie:]\n",
    "        \n",
    "        #get top movie recommendations\n",
    "        for index in top_index:\n",
    "            recommeded_movies.append((user, possible_rec[index]))\n",
    "            \n",
    "    return recommeded_movies"
   ]
  },
  {
   "cell_type": "code",
   "execution_count": 43,
   "metadata": {},
   "outputs": [],
   "source": [
    "#get similarities\n",
    "cn_user = common_neighbors(train_matrix, by='user')\n",
    "cn_movie = common_neighbors(train_matrix, by='movie')\n",
    "\n",
    "jc_user = jacard_coefﬁcient(train_matrix, by='user')\n",
    "jc_movie = jacard_coefﬁcient(train_matrix, by='movie')\n",
    "\n",
    "pa_user = preferential_attachment(train_matrix, by='user')\n",
    "pa_movie = preferential_attachment(train_matrix, by='movie')"
   ]
  },
  {
   "cell_type": "code",
   "execution_count": 44,
   "metadata": {},
   "outputs": [],
   "source": [
    "#cn_user and cn_movie\n",
    "recommend_list = TSUISIMCF(train_matrix, cn_user, cn_movie, 15, 5, range(train_matrix.shape[0]))"
   ]
  },
  {
   "cell_type": "code",
   "execution_count": 50,
   "metadata": {},
   "outputs": [],
   "source": [
    "full_results = pd.DataFrame( columns=['user', 'item', 'Prec', 'Rec', 'F1'])"
   ]
  },
  {
   "cell_type": "code",
   "execution_count": 51,
   "metadata": {},
   "outputs": [
    {
     "name": "stdout",
     "output_type": "stream",
     "text": [
      "Precision : 0.22819672131147542\n",
      "Recall : 0.037591142317040235\n",
      "F1 Score : 0.06454903779271969\n"
     ]
    }
   ],
   "source": [
    "results = get_metrics(testing, recommend_list)\n",
    "full_results.loc[len(full_results)] = [\"Common Neighbors\", \"Common Neighbors\", results[0], results[1], results[2]]"
   ]
  },
  {
   "cell_type": "code",
   "execution_count": 56,
   "metadata": {},
   "outputs": [
    {
     "data": {
      "text/html": [
       "<div>\n",
       "<style scoped>\n",
       "    .dataframe tbody tr th:only-of-type {\n",
       "        vertical-align: middle;\n",
       "    }\n",
       "\n",
       "    .dataframe tbody tr th {\n",
       "        vertical-align: top;\n",
       "    }\n",
       "\n",
       "    .dataframe thead th {\n",
       "        text-align: right;\n",
       "    }\n",
       "</style>\n",
       "<table border=\"1\" class=\"dataframe\">\n",
       "  <thead>\n",
       "    <tr style=\"text-align: right;\">\n",
       "      <th></th>\n",
       "      <th>user</th>\n",
       "      <th>item</th>\n",
       "      <th>Prec</th>\n",
       "      <th>Rec</th>\n",
       "      <th>F1</th>\n",
       "    </tr>\n",
       "  </thead>\n",
       "  <tbody>\n",
       "    <tr>\n",
       "      <th>0</th>\n",
       "      <td>Common Neighbors</td>\n",
       "      <td>Common Neighbors</td>\n",
       "      <td>0.228197</td>\n",
       "      <td>0.037591</td>\n",
       "      <td>0.064549</td>\n",
       "    </tr>\n",
       "    <tr>\n",
       "      <th>1</th>\n",
       "      <td>Common Neighbors</td>\n",
       "      <td>Jaccard Coefficient</td>\n",
       "      <td>0.072787</td>\n",
       "      <td>0.011990</td>\n",
       "      <td>0.020589</td>\n",
       "    </tr>\n",
       "  </tbody>\n",
       "</table>\n",
       "</div>"
      ],
      "text/plain": [
       "               user                 item      Prec       Rec        F1\n",
       "0  Common Neighbors     Common Neighbors  0.228197  0.037591  0.064549\n",
       "1  Common Neighbors  Jaccard Coefficient  0.072787  0.011990  0.020589"
      ]
     },
     "execution_count": 56,
     "metadata": {},
     "output_type": "execute_result"
    }
   ],
   "source": [
    "full_results"
   ]
  },
  {
   "cell_type": "code",
   "execution_count": 54,
   "metadata": {},
   "outputs": [
    {
     "name": "stdout",
     "output_type": "stream",
     "text": [
      "Precision : 0.07278688524590164\n",
      "Recall : 0.01199027815284904\n",
      "F1 Score : 0.020588917226988173\n"
     ]
    }
   ],
   "source": [
    "#cn_user and jc_movie\n",
    "recommend_list = TSUISIMCF(train_matrix, cn_user, jc_movie, 15, 5, range(train_matrix.shape[0]))\n",
    "results = get_metrics(testing, recommend_list)\n",
    "\n",
    "full_results.loc[len(full_results)] = [\"Common Neighbors\", \"Jaccard Coefficient\", results[0], results[1], results[2]]"
   ]
  },
  {
   "cell_type": "code",
   "execution_count": 57,
   "metadata": {},
   "outputs": [
    {
     "name": "stdout",
     "output_type": "stream",
     "text": [
      "Precision : 0.20163934426229507\n",
      "Recall : 0.03321631109910883\n",
      "F1 Score : 0.05703686529098075\n"
     ]
    }
   ],
   "source": [
    "#cn_user and pa_movie\n",
    "recommend_list = TSUISIMCF(train_matrix, cn_user, pa_movie, 15, 5, range(train_matrix.shape[0]))\n",
    "results = get_metrics(testing, recommend_list)\n",
    "\n",
    "full_results.loc[len(full_results)] = [\"Common Neighbors\", \"Preferential Attachment\", results[0], results[1], results[2]]"
   ]
  },
  {
   "cell_type": "code",
   "execution_count": 58,
   "metadata": {},
   "outputs": [
    {
     "name": "stdout",
     "output_type": "stream",
     "text": [
      "Precision : 0.23901639344262296\n",
      "Recall : 0.03937348096138266\n",
      "F1 Score : 0.06760955251565035\n"
     ]
    }
   ],
   "source": [
    "#jc_user and cn_movie\n",
    "recommend_list = TSUISIMCF(train_matrix, jc_user, cn_movie, 15, 5, range(train_matrix.shape[0]))\n",
    "results = get_metrics(testing, recommend_list)\n",
    "\n",
    "full_results.loc[len(full_results)] = [\"Jaccard Coefficient\", \"Common Neighbors\", results[0], results[1], results[2]]"
   ]
  },
  {
   "cell_type": "code",
   "execution_count": 59,
   "metadata": {},
   "outputs": [
    {
     "name": "stdout",
     "output_type": "stream",
     "text": [
      "Precision : 0.14754098360655737\n",
      "Recall : 0.024304617877396704\n",
      "F1 Score : 0.04173429167632738\n"
     ]
    }
   ],
   "source": [
    "#jc_user and jc_movie\n",
    "recommend_list = TSUISIMCF(train_matrix, jc_user, jc_movie, 15, 5, range(train_matrix.shape[0]))\n",
    "results = get_metrics(testing, recommend_list)\n",
    "\n",
    "full_results.loc[len(full_results)] = [\"Jaccard Coefficient\", \"Jaccard Coefficient\", results[0], results[1], results[2]]"
   ]
  },
  {
   "cell_type": "code",
   "execution_count": 60,
   "metadata": {},
   "outputs": [
    {
     "name": "stdout",
     "output_type": "stream",
     "text": [
      "Precision : 0.2137704918032787\n",
      "Recall : 0.035214690791250336\n",
      "F1 Score : 0.06046835149547878\n"
     ]
    }
   ],
   "source": [
    "#jc_user and pa_movie\n",
    "recommend_list = TSUISIMCF(train_matrix, jc_user, pa_movie, 15, 5, range(train_matrix.shape[0]))\n",
    "results = get_metrics(testing, recommend_list)\n",
    "\n",
    "full_results.loc[len(full_results)] = [\"Jaccard Coefficient\", \"Preferential Attachment\", results[0], results[1], results[2]]"
   ]
  },
  {
   "cell_type": "code",
   "execution_count": 61,
   "metadata": {},
   "outputs": [
    {
     "name": "stdout",
     "output_type": "stream",
     "text": [
      "Precision : 0.22885245901639345\n",
      "Recall : 0.03769916284093978\n",
      "F1 Score : 0.06473452353350335\n"
     ]
    }
   ],
   "source": [
    "#pa_user and cn_movie\n",
    "recommend_list = TSUISIMCF(train_matrix, pa_user, cn_movie, 15, 5, range(train_matrix.shape[0]))\n",
    "results = get_metrics(testing, recommend_list)\n",
    "\n",
    "full_results.loc[len(full_results)] = [\"Preferential Attachment\", \"Common Neighbors\", results[0], results[1], results[2]]"
   ]
  },
  {
   "cell_type": "code",
   "execution_count": 67,
   "metadata": {},
   "outputs": [
    {
     "name": "stdout",
     "output_type": "stream",
     "text": [
      "Precision : 0.07311475409836066\n",
      "Recall : 0.012044288414798812\n",
      "F1 Score : 0.020681660097380015\n"
     ]
    }
   ],
   "source": [
    "#pa_user and jc_movie\n",
    "recommend_list = TSUISIMCF(train_matrix, pa_user, jc_movie, 15, 5, range(train_matrix.shape[0]))\n",
    "results = get_metrics(testing, recommend_list)\n",
    "\n",
    "full_results.loc[len(full_results)] = [\"Preferential Attachment\", \"Jaccard Coefficient\", results[0], results[1], results[2]]"
   ]
  },
  {
   "cell_type": "code",
   "execution_count": 68,
   "metadata": {},
   "outputs": [
    {
     "name": "stdout",
     "output_type": "stream",
     "text": [
      "Precision : 0.2022950819672131\n",
      "Recall : 0.03332433162300837\n",
      "F1 Score : 0.05722235103176443\n"
     ]
    }
   ],
   "source": [
    "#pa_user and pa_movie\n",
    "recommend_list = TSUISIMCF(train_matrix, pa_user, pa_movie, 15, 5, range(train_matrix.shape[0]))\n",
    "results = get_metrics(testing, recommend_list)\n",
    "\n",
    "full_results.loc[len(full_results)] = [\"Preferential Attachment\", \"Preferential Attachment\", results[0], results[1], results[2]]"
   ]
  },
  {
   "cell_type": "code",
   "execution_count": 69,
   "metadata": {},
   "outputs": [
    {
     "data": {
      "text/html": [
       "<div>\n",
       "<style scoped>\n",
       "    .dataframe tbody tr th:only-of-type {\n",
       "        vertical-align: middle;\n",
       "    }\n",
       "\n",
       "    .dataframe tbody tr th {\n",
       "        vertical-align: top;\n",
       "    }\n",
       "\n",
       "    .dataframe thead th {\n",
       "        text-align: right;\n",
       "    }\n",
       "</style>\n",
       "<table border=\"1\" class=\"dataframe\">\n",
       "  <thead>\n",
       "    <tr style=\"text-align: right;\">\n",
       "      <th></th>\n",
       "      <th>user</th>\n",
       "      <th>item</th>\n",
       "      <th>Prec</th>\n",
       "      <th>Rec</th>\n",
       "      <th>F1</th>\n",
       "    </tr>\n",
       "  </thead>\n",
       "  <tbody>\n",
       "    <tr>\n",
       "      <th>0</th>\n",
       "      <td>Common Neighbors</td>\n",
       "      <td>Common Neighbors</td>\n",
       "      <td>0.228197</td>\n",
       "      <td>0.037591</td>\n",
       "      <td>0.064549</td>\n",
       "    </tr>\n",
       "    <tr>\n",
       "      <th>1</th>\n",
       "      <td>Common Neighbors</td>\n",
       "      <td>Jaccard Coefficient</td>\n",
       "      <td>0.072787</td>\n",
       "      <td>0.011990</td>\n",
       "      <td>0.020589</td>\n",
       "    </tr>\n",
       "    <tr>\n",
       "      <th>2</th>\n",
       "      <td>Common Neighbors</td>\n",
       "      <td>Preferential Attachment</td>\n",
       "      <td>0.201639</td>\n",
       "      <td>0.033216</td>\n",
       "      <td>0.057037</td>\n",
       "    </tr>\n",
       "    <tr>\n",
       "      <th>3</th>\n",
       "      <td>Jaccard Coefficient</td>\n",
       "      <td>Common Neighbors</td>\n",
       "      <td>0.239016</td>\n",
       "      <td>0.039373</td>\n",
       "      <td>0.067610</td>\n",
       "    </tr>\n",
       "    <tr>\n",
       "      <th>4</th>\n",
       "      <td>Jaccard Coefficient</td>\n",
       "      <td>Jaccard Coefficient</td>\n",
       "      <td>0.147541</td>\n",
       "      <td>0.024305</td>\n",
       "      <td>0.041734</td>\n",
       "    </tr>\n",
       "    <tr>\n",
       "      <th>5</th>\n",
       "      <td>Jaccard Coefficient</td>\n",
       "      <td>Preferential Attachment</td>\n",
       "      <td>0.213770</td>\n",
       "      <td>0.035215</td>\n",
       "      <td>0.060468</td>\n",
       "    </tr>\n",
       "    <tr>\n",
       "      <th>6</th>\n",
       "      <td>Preferential Attachment</td>\n",
       "      <td>Common Neighbors</td>\n",
       "      <td>0.228852</td>\n",
       "      <td>0.037699</td>\n",
       "      <td>0.064735</td>\n",
       "    </tr>\n",
       "    <tr>\n",
       "      <th>7</th>\n",
       "      <td>Preferential Attachment</td>\n",
       "      <td>Jaccard Coefficient</td>\n",
       "      <td>0.073115</td>\n",
       "      <td>0.012044</td>\n",
       "      <td>0.020682</td>\n",
       "    </tr>\n",
       "    <tr>\n",
       "      <th>8</th>\n",
       "      <td>Preferential Attachment</td>\n",
       "      <td>Preferential Attachment</td>\n",
       "      <td>0.202295</td>\n",
       "      <td>0.033324</td>\n",
       "      <td>0.057222</td>\n",
       "    </tr>\n",
       "  </tbody>\n",
       "</table>\n",
       "</div>"
      ],
      "text/plain": [
       "                      user                     item      Prec       Rec  \\\n",
       "0         Common Neighbors         Common Neighbors  0.228197  0.037591   \n",
       "1         Common Neighbors      Jaccard Coefficient  0.072787  0.011990   \n",
       "2         Common Neighbors  Preferential Attachment  0.201639  0.033216   \n",
       "3      Jaccard Coefficient         Common Neighbors  0.239016  0.039373   \n",
       "4      Jaccard Coefficient      Jaccard Coefficient  0.147541  0.024305   \n",
       "5      Jaccard Coefficient  Preferential Attachment  0.213770  0.035215   \n",
       "6  Preferential Attachment         Common Neighbors  0.228852  0.037699   \n",
       "7  Preferential Attachment      Jaccard Coefficient  0.073115  0.012044   \n",
       "8  Preferential Attachment  Preferential Attachment  0.202295  0.033324   \n",
       "\n",
       "         F1  \n",
       "0  0.064549  \n",
       "1  0.020589  \n",
       "2  0.057037  \n",
       "3  0.067610  \n",
       "4  0.041734  \n",
       "5  0.060468  \n",
       "6  0.064735  \n",
       "7  0.020682  \n",
       "8  0.057222  "
      ]
     },
     "execution_count": 69,
     "metadata": {},
     "output_type": "execute_result"
    }
   ],
   "source": [
    "full_results"
   ]
  },
  {
   "cell_type": "markdown",
   "metadata": {},
   "source": [
    "# Graphs"
   ]
  },
  {
   "cell_type": "code",
   "execution_count": 70,
   "metadata": {},
   "outputs": [],
   "source": [
    "import matplotlib.pyplot as plt "
   ]
  },
  {
   "cell_type": "code",
   "execution_count": 127,
   "metadata": {},
   "outputs": [
    {
     "data": {
      "image/png": "[encoded data removed]",
      "text/plain": [
       "<Figure size 504x288 with 1 Axes>"
      ]
     },
     "metadata": {
      "needs_background": "light"
     },
     "output_type": "display_data"
    }
   ],
   "source": [
    "CN = full_results[full_results['user'] == 'Common Neighbors']\n",
    "JC = full_results[full_results['user'] == 'Jaccard Coefficient']\n",
    "PA = full_results[full_results['user'] == 'Preferential Attachment']\n",
    "\n",
    "Xaxis = np.arange(len(CN))\n",
    "\n",
    "width = 0.27\n",
    "\n",
    "plt.figure(figsize=(7,4))\n",
    "\n",
    "plt.bar(Xaxis - width, CN['Prec'], width=width, label='Common Neighbors')\n",
    "plt.bar(Xaxis, JC['Prec'], width=width, label='Jaccard Coefficient')\n",
    "plt.bar(Xaxis + width, PA['Prec'], width=width, label='Preferential Attachment')\n",
    "\n",
    "plt.xticks(Xaxis, CN['item'])\n",
    "plt.ylim([0, 0.4])\n",
    "\n",
    "plt.legend(title=\"User Similarity Measure\", title_fontsize='large')\n",
    "\n",
    "plt.title(\"Precision Score at Similarity Measures\", size=15)\n",
    "plt.xlabel(\"Movie Similarity Measure\", size=13)\n",
    "plt.ylabel(\"Precision\", size=13)\n",
    "\n",
    "plt.show()"
   ]
  },
  {
   "cell_type": "code",
   "execution_count": 123,
   "metadata": {},
   "outputs": [
    {
     "name": "stdout",
     "output_type": "stream",
     "text": [
      "Precision : 0.2108606557377049\n",
      "Recall : 0.0555765595463138\n",
      "F1 Score : 0.08796751442615942\n"
     ]
    },
    {
     "data": {
      "text/plain": [
       "(0.2108606557377049, 0.0555765595463138, 0.08796751442615942)"
      ]
     },
     "execution_count": 123,
     "metadata": {},
     "output_type": "execute_result"
    }
   ],
   "source": [
    "recommend_list = TSUISIMCF(train_matrix, jc_user, cn_movie, 15, 8, range(train_matrix.shape[0]))\n",
    "get_metrics(testing, recommend_list)"
   ]
  },
  {
   "cell_type": "code",
   "execution_count": null,
   "metadata": {},
   "outputs": [],
   "source": []
  }
 ],
 "metadata": {
  "kernelspec": {
   "display_name": "Python 3",
   "language": "python",
   "name": "python3"
  },
  "language_info": {
   "codemirror_mode": {
    "name": "ipython",
    "version": 3
   },
   "file_extension": ".py",
   "mimetype": "text/x-python",
   "name": "python",
   "nbconvert_exporter": "python",
   "pygments_lexer": "ipython3",
   "version": "3.8.3"
  }
 },
 "nbformat": 4,
 "nbformat_minor": 4
}
