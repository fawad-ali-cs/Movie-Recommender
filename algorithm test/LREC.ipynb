{
 "cells": [
  {
   "cell_type": "code",
   "execution_count": 1,
   "metadata": {},
   "outputs": [],
   "source": [
    "import pandas as pd\n",
    "import numpy as np\n",
    "from sklearn.linear_model import LogisticRegression, Ridge\n",
    "\n",
    "import random\n",
    "import math\n",
    "import time\n",
    "\n",
    "import matplotlib.pyplot as plt\n",
    "from functions import train_test"
   ]
  },
  {
   "cell_type": "code",
   "execution_count": 2,
   "metadata": {},
   "outputs": [],
   "source": [
    "rating_df = pd.read_csv('data/user_rating_pt.csv')\n",
    "rating_df.columns = rating_df.columns.astype(int)"
   ]
  },
  {
   "cell_type": "code",
   "execution_count": 3,
   "metadata": {},
   "outputs": [
    {
     "data": {
      "text/html": [
       "<div>\n",
       "<style scoped>\n",
       "    .dataframe tbody tr th:only-of-type {\n",
       "        vertical-align: middle;\n",
       "    }\n",
       "\n",
       "    .dataframe tbody tr th {\n",
       "        vertical-align: top;\n",
       "    }\n",
       "\n",
       "    .dataframe thead th {\n",
       "        text-align: right;\n",
       "    }\n",
       "</style>\n",
       "<table border=\"1\" class=\"dataframe\">\n",
       "  <thead>\n",
       "    <tr style=\"text-align: right;\">\n",
       "      <th></th>\n",
       "      <th>0</th>\n",
       "      <th>1</th>\n",
       "      <th>2</th>\n",
       "      <th>3</th>\n",
       "      <th>4</th>\n",
       "      <th>5</th>\n",
       "      <th>6</th>\n",
       "      <th>7</th>\n",
       "      <th>8</th>\n",
       "      <th>9</th>\n",
       "      <th>...</th>\n",
       "      <th>9714</th>\n",
       "      <th>9715</th>\n",
       "      <th>9716</th>\n",
       "      <th>9717</th>\n",
       "      <th>9718</th>\n",
       "      <th>9719</th>\n",
       "      <th>9720</th>\n",
       "      <th>9721</th>\n",
       "      <th>9722</th>\n",
       "      <th>9723</th>\n",
       "    </tr>\n",
       "  </thead>\n",
       "  <tbody>\n",
       "    <tr>\n",
       "      <th>0</th>\n",
       "      <td>1.0</td>\n",
       "      <td>0.0</td>\n",
       "      <td>1.0</td>\n",
       "      <td>0.0</td>\n",
       "      <td>0.0</td>\n",
       "      <td>1.0</td>\n",
       "      <td>0.0</td>\n",
       "      <td>0</td>\n",
       "      <td>0.0</td>\n",
       "      <td>0.0</td>\n",
       "      <td>...</td>\n",
       "      <td>0.0</td>\n",
       "      <td>0</td>\n",
       "      <td>0</td>\n",
       "      <td>0</td>\n",
       "      <td>0.0</td>\n",
       "      <td>0</td>\n",
       "      <td>0.0</td>\n",
       "      <td>0.0</td>\n",
       "      <td>0.0</td>\n",
       "      <td>0</td>\n",
       "    </tr>\n",
       "    <tr>\n",
       "      <th>1</th>\n",
       "      <td>0.0</td>\n",
       "      <td>0.0</td>\n",
       "      <td>0.0</td>\n",
       "      <td>0.0</td>\n",
       "      <td>0.0</td>\n",
       "      <td>0.0</td>\n",
       "      <td>0.0</td>\n",
       "      <td>0</td>\n",
       "      <td>0.0</td>\n",
       "      <td>0.0</td>\n",
       "      <td>...</td>\n",
       "      <td>0.0</td>\n",
       "      <td>0</td>\n",
       "      <td>0</td>\n",
       "      <td>0</td>\n",
       "      <td>0.0</td>\n",
       "      <td>0</td>\n",
       "      <td>0.0</td>\n",
       "      <td>0.0</td>\n",
       "      <td>0.0</td>\n",
       "      <td>0</td>\n",
       "    </tr>\n",
       "    <tr>\n",
       "      <th>2</th>\n",
       "      <td>0.0</td>\n",
       "      <td>0.0</td>\n",
       "      <td>0.0</td>\n",
       "      <td>0.0</td>\n",
       "      <td>0.0</td>\n",
       "      <td>0.0</td>\n",
       "      <td>0.0</td>\n",
       "      <td>0</td>\n",
       "      <td>0.0</td>\n",
       "      <td>0.0</td>\n",
       "      <td>...</td>\n",
       "      <td>0.0</td>\n",
       "      <td>0</td>\n",
       "      <td>0</td>\n",
       "      <td>0</td>\n",
       "      <td>0.0</td>\n",
       "      <td>0</td>\n",
       "      <td>0.0</td>\n",
       "      <td>0.0</td>\n",
       "      <td>0.0</td>\n",
       "      <td>0</td>\n",
       "    </tr>\n",
       "    <tr>\n",
       "      <th>3</th>\n",
       "      <td>0.0</td>\n",
       "      <td>0.0</td>\n",
       "      <td>0.0</td>\n",
       "      <td>0.0</td>\n",
       "      <td>0.0</td>\n",
       "      <td>0.0</td>\n",
       "      <td>0.0</td>\n",
       "      <td>0</td>\n",
       "      <td>0.0</td>\n",
       "      <td>0.0</td>\n",
       "      <td>...</td>\n",
       "      <td>0.0</td>\n",
       "      <td>0</td>\n",
       "      <td>0</td>\n",
       "      <td>0</td>\n",
       "      <td>0.0</td>\n",
       "      <td>0</td>\n",
       "      <td>0.0</td>\n",
       "      <td>0.0</td>\n",
       "      <td>0.0</td>\n",
       "      <td>0</td>\n",
       "    </tr>\n",
       "    <tr>\n",
       "      <th>4</th>\n",
       "      <td>1.0</td>\n",
       "      <td>0.0</td>\n",
       "      <td>0.0</td>\n",
       "      <td>0.0</td>\n",
       "      <td>0.0</td>\n",
       "      <td>0.0</td>\n",
       "      <td>0.0</td>\n",
       "      <td>0</td>\n",
       "      <td>0.0</td>\n",
       "      <td>0.0</td>\n",
       "      <td>...</td>\n",
       "      <td>0.0</td>\n",
       "      <td>0</td>\n",
       "      <td>0</td>\n",
       "      <td>0</td>\n",
       "      <td>0.0</td>\n",
       "      <td>0</td>\n",
       "      <td>0.0</td>\n",
       "      <td>0.0</td>\n",
       "      <td>0.0</td>\n",
       "      <td>0</td>\n",
       "    </tr>\n",
       "  </tbody>\n",
       "</table>\n",
       "<p>5 rows × 9724 columns</p>\n",
       "</div>"
      ],
      "text/plain": [
       "   0     1     2     3     4     5     6     7     8     9     ...  9714  \\\n",
       "0   1.0   0.0   1.0   0.0   0.0   1.0   0.0     0   0.0   0.0  ...   0.0   \n",
       "1   0.0   0.0   0.0   0.0   0.0   0.0   0.0     0   0.0   0.0  ...   0.0   \n",
       "2   0.0   0.0   0.0   0.0   0.0   0.0   0.0     0   0.0   0.0  ...   0.0   \n",
       "3   0.0   0.0   0.0   0.0   0.0   0.0   0.0     0   0.0   0.0  ...   0.0   \n",
       "4   1.0   0.0   0.0   0.0   0.0   0.0   0.0     0   0.0   0.0  ...   0.0   \n",
       "\n",
       "   9715  9716  9717  9718  9719  9720  9721  9722  9723  \n",
       "0     0     0     0   0.0     0   0.0   0.0   0.0     0  \n",
       "1     0     0     0   0.0     0   0.0   0.0   0.0     0  \n",
       "2     0     0     0   0.0     0   0.0   0.0   0.0     0  \n",
       "3     0     0     0   0.0     0   0.0   0.0   0.0     0  \n",
       "4     0     0     0   0.0     0   0.0   0.0   0.0     0  \n",
       "\n",
       "[5 rows x 9724 columns]"
      ]
     },
     "execution_count": 3,
     "metadata": {},
     "output_type": "execute_result"
    }
   ],
   "source": [
    "rating_treshold = 3.5\n",
    "\n",
    "rating_df[rating_df < rating_treshold] = 0\n",
    "rating_df[rating_df >= rating_treshold] = 1\n",
    "rating_df.columns = range(len(rating_df.columns))\n",
    "\n",
    "rating_df.head()"
   ]
  },
  {
   "cell_type": "code",
   "execution_count": 4,
   "metadata": {},
   "outputs": [],
   "source": [
    "rating_matrix = np.array(rating_df)"
   ]
  },
  {
   "cell_type": "code",
   "execution_count": 5,
   "metadata": {},
   "outputs": [],
   "source": [
    "known = []\n",
    "\n",
    "for u in range(rating_matrix.shape[0]):\n",
    "    for i in range(rating_matrix.shape[1]):\n",
    "        if rating_matrix[u,i] > 0:\n",
    "            known.append((u, i))\n",
    "\n",
    "training, testing = train_test(known, test_size=0.3)"
   ]
  },
  {
   "cell_type": "code",
   "execution_count": 6,
   "metadata": {},
   "outputs": [],
   "source": [
    "def get_recommendations(pred, k=5):\n",
    "    rec_list = []\n",
    "    \n",
    "    for u in range(pred.shape[0]):\n",
    "        rec = np.argpartition(pred[u],-k)[-k:]\n",
    "        rec_list.append(rec)\n",
    "    \n",
    "    return np.array(rec_list)"
   ]
  },
  {
   "cell_type": "code",
   "execution_count": 7,
   "metadata": {},
   "outputs": [],
   "source": [
    "def get_metrics(test_matrix, user_rec):\n",
    "    true_positive = 0\n",
    "    false_positive = 0\n",
    "    false_negative = 0\n",
    "    \n",
    "    for u in range(user_rec.shape[0]):\n",
    "        for i in user_rec[u]:\n",
    "            if test_matrix[u][i] == 1:\n",
    "                true_positive+=1\n",
    "            else:\n",
    "                false_positive+=1\n",
    "                \n",
    "    for u in range(test_matrix.shape[0]):\n",
    "        for i in range(test_matrix.shape[1]):\n",
    "            if test_matrix[u][i] == 1 and i not in user_rec[u]:\n",
    "                false_negative+=1\n",
    "    \n",
    "    precision = true_positive/(true_positive + false_positive)\n",
    "    recall = true_positive/(true_positive + false_negative)\n",
    "    F1_score = 2*(precision*recall)/(precision + recall)\n",
    "\n",
    "    print(\"Precision :\", precision)\n",
    "    print(\"Recall :\", recall)\n",
    "    print(\"F1 Score :\", F1_score)\n",
    "    \n",
    "    return precision, recall, F1_score"
   ]
  },
  {
   "cell_type": "code",
   "execution_count": 8,
   "metadata": {},
   "outputs": [],
   "source": [
    "train_matrix = np.zeros((rating_matrix.shape[0], rating_matrix.shape[1]))\n",
    "test_matrix = np.zeros((rating_matrix.shape[0], rating_matrix.shape[1]))\n",
    "\n",
    "for u, i in training:\n",
    "    train_matrix[u][i] = 1\n",
    "\n",
    "for u, i in testing:\n",
    "    test_matrix[u][i] = 1"
   ]
  },
  {
   "cell_type": "code",
   "execution_count": 9,
   "metadata": {},
   "outputs": [],
   "source": [
    "def LREC(dataset, inv_reg=0.01, user_list=None):\n",
    "    \n",
    "    if user_list == None:\n",
    "        user_list = range(dataset.shape[0])\n",
    "        \n",
    "    X = dataset.T\n",
    "    Y = X*2 - 1\n",
    "\n",
    "    W = []\n",
    "\n",
    "    for index in user_list:\n",
    "        if 1 in Y.T[index] and -1 in Y.T[index]:\n",
    "            log_r = LogisticRegression(C=inv_reg).fit(X, Y.T[index])\n",
    "            W.append(log_r.coef_[0])\n",
    "        else:\n",
    "            W.append(np.zeros(dataset.shape[0]))\n",
    "    \n",
    "    W = np.array(W)\n",
    "    pred = np.dot(W.T, dataset[user_list])\n",
    "    \n",
    "    train_replace = pred.min() - 1\n",
    "\n",
    "    for u, i in training:\n",
    "        pred[u][i] = train_replace\n",
    "    \n",
    "    return pred"
   ]
  },
  {
   "cell_type": "code",
   "execution_count": 45,
   "metadata": {},
   "outputs": [
    {
     "name": "stdout",
     "output_type": "stream",
     "text": [
      "inverse reg = 0.1\n",
      "Precision : 0.20579234972677596\n",
      "Recall : 0.10170132325141777\n",
      "F1 Score : 0.13612868245075005\n",
      "\n",
      "inverse reg = 0.075\n",
      "Precision : 0.21005464480874317\n",
      "Recall : 0.10380772346745881\n",
      "F1 Score : 0.13894812940538587\n",
      "\n",
      "inverse reg = 0.05\n",
      "Precision : 0.21650273224043715\n",
      "Recall : 0.10699432892249527\n",
      "F1 Score : 0.14321344659316826\n",
      "\n",
      "inverse reg = 0.025\n",
      "Precision : 0.22546448087431695\n",
      "Recall : 0.11142317040237645\n",
      "F1 Score : 0.1491415145490692\n",
      "\n",
      "inverse reg = 0.01\n",
      "Precision : 0.22153005464480874\n",
      "Recall : 0.10947880097218471\n",
      "F1 Score : 0.14653894812940538\n",
      "\n",
      "inverse reg = 0.0075\n",
      "Precision : 0.21934426229508197\n",
      "Recall : 0.1083985957331893\n",
      "F1 Score : 0.1450930778962588\n",
      "\n",
      "inverse reg = 0.005\n",
      "Precision : 0.20994535519125684\n",
      "Recall : 0.10375371320550905\n",
      "F1 Score : 0.13887583589372854\n",
      "\n",
      "inverse reg = 0.0025\n",
      "Precision : 0.19934426229508198\n",
      "Recall : 0.09851471779638131\n",
      "F1 Score : 0.13186336526296766\n",
      "\n",
      "inverse reg = 0.0001\n",
      "Precision : 0.19092896174863389\n",
      "Recall : 0.09435592762624899\n",
      "F1 Score : 0.12629676486535335\n",
      "\n"
     ]
    }
   ],
   "source": [
    "reg_terms = [0.1, 0.075, 0.05, 0.025, 0.01, 0.0075, 0.005,0.0025, 0.0001]\n",
    "scores = []\n",
    "\n",
    "for reg in reg_terms:\n",
    "    pred = LREC(train_matrix, inv_reg=reg)\n",
    "    user_rec = get_recommendations(pred, k=15)\n",
    "    \n",
    "    print(\"inverse reg =\", reg)\n",
    "    scores.append(get_metrics(test_matrix, user_rec))\n",
    "    print()"
   ]
  },
  {
   "cell_type": "markdown",
   "metadata": {},
   "source": [
    "### Graph"
   ]
  },
  {
   "cell_type": "code",
   "execution_count": 46,
   "metadata": {},
   "outputs": [],
   "source": [
    "precision_list = []\n",
    "recall_list = []\n",
    "F1_list = []\n",
    "\n",
    "for s in scores:\n",
    "    precision_list.append(s[0])\n",
    "    recall_list.append(s[1])\n",
    "    F1_list.append(s[2])"
   ]
  },
  {
   "cell_type": "code",
   "execution_count": 53,
   "metadata": {},
   "outputs": [
    {
     "data": {
      "image/png": "[encoded data removed]",
      "text/plain": [
       "<Figure size 432x288 with 1 Axes>"
      ]
     },
     "metadata": {
      "needs_background": "light"
     },
     "output_type": "display_data"
    }
   ],
   "source": [
    "plt.plot(reg_terms, precision_list, color='blue', linewidth=2)\n",
    "\n",
    "plt.title('Precision at Inverse Regularization', size=14)\n",
    "plt.xlabel('Inverse Regularization', size=12)\n",
    "plt.ylabel('Precision', size=12)\n",
    "\n",
    "\n",
    "plt.show()"
   ]
  },
  {
   "cell_type": "code",
   "execution_count": 48,
   "metadata": {},
   "outputs": [
    {
     "data": {
      "image/png": "[encoded data removed]",
      "text/plain": [
       "<Figure size 432x288 with 1 Axes>"
      ]
     },
     "metadata": {
      "needs_background": "light"
     },
     "output_type": "display_data"
    }
   ],
   "source": [
    "plt.plot(reg_terms, recall_list, color='green', linewidth=2)\n",
    "\n",
    "plt.title('Recall at Inverse Regularization', size=14)\n",
    "plt.xlabel('Inverse Regularization', size=12)\n",
    "plt.ylabel('Recall', size=12)\n",
    "\n",
    "\n",
    "plt.show()"
   ]
  },
  {
   "cell_type": "code",
   "execution_count": 52,
   "metadata": {},
   "outputs": [
    {
     "data": {
      "image/png": "[encoded data removed]",
      "text/plain": [
       "<Figure size 432x288 with 1 Axes>"
      ]
     },
     "metadata": {
      "needs_background": "light"
     },
     "output_type": "display_data"
    }
   ],
   "source": [
    "plt.plot(reg_terms, F1_list, color='green', linewidth=2)\n",
    "\n",
    "plt.title('F1 Score at Inverse Regularization', size=14)\n",
    "plt.xlabel('Inverse Regularization', size=12)\n",
    "plt.ylabel('F1 Score', size=12)\n",
    "\n",
    "\n",
    "plt.show()"
   ]
  },
  {
   "cell_type": "markdown",
   "metadata": {},
   "source": [
    "# Squared"
   ]
  },
  {
   "cell_type": "code",
   "execution_count": 10,
   "metadata": {},
   "outputs": [],
   "source": [
    "def LREC_squared(dataset, reg=1.0, user_list=None):\n",
    "    \n",
    "    if user_list == None:\n",
    "        user_list = range(dataset.shape[0])\n",
    "        \n",
    "    X = dataset.T\n",
    "    Y = X*2 - 1\n",
    "\n",
    "    W = []\n",
    "\n",
    "    for index in user_list:\n",
    "     \n",
    "        \n",
    "        if 1 in Y.T[index] and -1 in Y.T[index]:\n",
    "            rdg = Ridge(alpha=reg).fit(X, Y.T[index])\n",
    "            \n",
    "            W.append(rdg.coef_)\n",
    "        else:\n",
    "            W.append(np.zeros(dataset.shape[0]))\n",
    "    \n",
    "        \n",
    "        \n",
    "    W = np.array(W)\n",
    "    \n",
    "    pred = np.dot(W.T, dataset[user_list])\n",
    "    \n",
    "    train_replace = pred.min() - 1\n",
    "\n",
    "    for u, i in training:\n",
    "        pred[u][i] = train_replace\n",
    "    \n",
    "    return pred"
   ]
  },
  {
   "cell_type": "code",
   "execution_count": 95,
   "metadata": {},
   "outputs": [
    {
     "name": "stdout",
     "output_type": "stream",
     "text": [
      "Precision : 0.19075409836065574\n",
      "Recall : 0.15711585201188225\n",
      "F1 Score : 0.17230860358359246\n",
      "71.15478610992432\n"
     ]
    }
   ],
   "source": [
    "t=time.time()\n",
    "pred = LREC_squared(train_matrix, reg=50)\n",
    "user_rec = get_recommendations(pred, k=25)\n",
    "    \n",
    "get_metrics(test_matrix, user_rec)\n",
    "print(time.time()-t)"
   ]
  },
  {
   "cell_type": "code",
   "execution_count": 96,
   "metadata": {},
   "outputs": [
    {
     "name": "stdout",
     "output_type": "stream",
     "text": [
      "reg term = 50\n",
      "Precision : 0.22360655737704918\n",
      "Recall : 0.11050499594923036\n",
      "F1 Score : 0.14791252485089465\n",
      "\n",
      "reg term = 100\n",
      "Precision : 0.24120218579234973\n",
      "Recall : 0.11920064812314339\n",
      "F1 Score : 0.15955178022772457\n",
      "\n",
      "reg term = 150\n",
      "Precision : 0.24830601092896176\n",
      "Recall : 0.12271131514987847\n",
      "F1 Score : 0.16425085848545093\n",
      "\n",
      "reg term = 200\n",
      "Precision : 0.2492896174863388\n",
      "Recall : 0.12319740750742642\n",
      "F1 Score : 0.16490150009036691\n",
      "\n",
      "reg term = 250\n",
      "Precision : 0.25016393442622953\n",
      "Recall : 0.12362948960302457\n",
      "F1 Score : 0.16547984818362552\n",
      "\n",
      "reg term = 300\n",
      "Precision : 0.24885245901639344\n",
      "Recall : 0.12298136645962733\n",
      "F1 Score : 0.16461232604373757\n",
      "\n",
      "reg term = 350\n",
      "Precision : 0.2484153005464481\n",
      "Recall : 0.12276532541182825\n",
      "F1 Score : 0.16432315199710826\n",
      "\n",
      "reg term = 400\n",
      "Precision : 0.24950819672131147\n",
      "Recall : 0.12330542803132595\n",
      "F1 Score : 0.16504608711368154\n",
      "\n",
      "reg term = 450\n",
      "Precision : 0.2476502732240437\n",
      "Recall : 0.12238725357817985\n",
      "F1 Score : 0.16381709741550696\n",
      "\n",
      "reg term = 500\n",
      "Precision : 0.24688524590163935\n",
      "Recall : 0.12200918174453146\n",
      "F1 Score : 0.16331104283390566\n",
      "\n"
     ]
    }
   ],
   "source": [
    "reg_terms = [50,100,150,200,250,300,350,400,450,500]\n",
    "scores_squared = []\n",
    "\n",
    "for reg_ in reg_terms:\n",
    "    pred = LREC_squared(train_matrix, reg=reg_)\n",
    "    user_rec = get_recommendations(pred, k=15)\n",
    "    \n",
    "    print(\"reg term =\", reg_)\n",
    "    scores_squared.append(get_metrics(test_matrix, user_rec))\n",
    "    print()"
   ]
  },
  {
   "cell_type": "markdown",
   "metadata": {},
   "source": [
    "## Graph"
   ]
  },
  {
   "cell_type": "code",
   "execution_count": 97,
   "metadata": {},
   "outputs": [],
   "source": [
    "precision_list = []\n",
    "recall_list = []\n",
    "F1_list = []\n",
    "\n",
    "for s in scores_squared:\n",
    "    precision_list.append(s[0])\n",
    "    recall_list.append(s[1])\n",
    "    F1_list.append(s[2])"
   ]
  },
  {
   "cell_type": "code",
   "execution_count": 104,
   "metadata": {},
   "outputs": [
    {
     "data": {
      "image/png": "[encoded data removed]",
      "text/plain": [
       "<Figure size 432x288 with 1 Axes>"
      ]
     },
     "metadata": {
      "needs_background": "light"
     },
     "output_type": "display_data"
    }
   ],
   "source": [
    "plt.plot(reg_terms, precision_list, color='blue', linewidth=2)\n",
    "\n",
    "plt.title('Precision at Regularization Constant', size=14)\n",
    "plt.xlabel('Regularization Constant', size=12)\n",
    "plt.ylabel('Precision', size=12)\n",
    "\n",
    "\n",
    "plt.show()"
   ]
  },
  {
   "cell_type": "code",
   "execution_count": 103,
   "metadata": {},
   "outputs": [
    {
     "data": {
      "image/png": "[encoded data removed]",
      "text/plain": [
       "<Figure size 432x288 with 1 Axes>"
      ]
     },
     "metadata": {
      "needs_background": "light"
     },
     "output_type": "display_data"
    }
   ],
   "source": [
    "plt.plot(reg_terms, recall_list, color='blue', linewidth=2)\n",
    "\n",
    "plt.title('Recall at Regularization Constant', size=14)\n",
    "plt.xlabel('Regularization Constant', size=12)\n",
    "plt.ylabel('Recall', size=12)\n",
    "\n",
    "\n",
    "plt.show()"
   ]
  },
  {
   "cell_type": "code",
   "execution_count": 106,
   "metadata": {},
   "outputs": [
    {
     "data": {
      "image/png": "[encoded data removed]",
      "text/plain": [
       "<Figure size 432x288 with 1 Axes>"
      ]
     },
     "metadata": {
      "needs_background": "light"
     },
     "output_type": "display_data"
    }
   ],
   "source": [
    "plt.plot(reg_terms, F1_list, color='blue', linewidth=2)\n",
    "\n",
    "plt.title('Recall at Regularization Constant', size=14)\n",
    "plt.xlabel('Regularization Constant', size=12)\n",
    "plt.ylabel('F1-Score', size=12)\n",
    "\n",
    "\n",
    "plt.show()"
   ]
  },
  {
   "cell_type": "markdown",
   "metadata": {},
   "source": [
    "## Test 2"
   ]
  },
  {
   "cell_type": "code",
   "execution_count": 25,
   "metadata": {},
   "outputs": [],
   "source": [
    "def get_metrics2(test_set, recommend_list):\n",
    "    true_positive = 0\n",
    "    false_positive = 0\n",
    "    false_negative = 0\n",
    "\n",
    "    for item in recommend_list:\n",
    "        if item in test_set:\n",
    "            true_positive += 1\n",
    "        else:\n",
    "            false_positive += 1\n",
    "\n",
    "    for item in test_set:\n",
    "        if item not in recommend_list:\n",
    "            false_negative+=1\n",
    "\n",
    "    precision = true_positive/(true_positive + false_positive)\n",
    "    recall = true_positive/(true_positive + false_negative)\n",
    "    F1_score = 2*(precision*recall)/(precision + recall)\n",
    "\n",
    "    print(\"Precision :\", precision)\n",
    "    print(\"Recall :\", recall)\n",
    "    print(\"F1 Score :\", F1_score)\n",
    "    \n",
    "    return precision, recall, F1_score\n"
   ]
  },
  {
   "cell_type": "code",
   "execution_count": 11,
   "metadata": {},
   "outputs": [
    {
     "name": "stdout",
     "output_type": "stream",
     "text": [
      "Precision : 0.24415300546448088\n",
      "Recall : 0.1206589251957872\n",
      "F1 Score : 0.16150370504247244\n"
     ]
    },
    {
     "data": {
      "text/plain": [
       "(0.24415300546448088, 0.1206589251957872, 0.16150370504247244)"
      ]
     },
     "execution_count": 11,
     "metadata": {},
     "output_type": "execute_result"
    }
   ],
   "source": [
    "pred = LREC_squared(train_matrix, reg=250)\n",
    "user_rec = get_recommendations(pred, k=15)\n",
    "\n",
    "get_metrics(test_matrix, user_rec)\n"
   ]
  },
  {
   "cell_type": "code",
   "execution_count": 15,
   "metadata": {},
   "outputs": [],
   "source": [
    "rec_list = []\n",
    "\n",
    "for u in range(user_rec.shape[0]):\n",
    "    for i in user_rec[u]:\n",
    "        rec_list.append((u,i))"
   ]
  },
  {
   "cell_type": "code",
   "execution_count": 23,
   "metadata": {},
   "outputs": [
    {
     "data": {
      "text/plain": [
       "[(0, 921),\n",
       " (0, 277),\n",
       " (0, 2013),\n",
       " (0, 474),\n",
       " (0, 2194),\n",
       " (0, 793),\n",
       " (0, 1444),\n",
       " (0, 2077),\n",
       " (0, 520),\n",
       " (0, 1575),\n",
       " (0, 1066),\n",
       " (0, 97),\n",
       " (0, 659),\n",
       " (0, 507),\n",
       " (0, 901)]"
      ]
     },
     "execution_count": 23,
     "metadata": {},
     "output_type": "execute_result"
    }
   ],
   "source": [
    "rec_list[:15]"
   ]
  },
  {
   "cell_type": "code",
   "execution_count": 18,
   "metadata": {},
   "outputs": [
    {
     "data": {
      "text/plain": [
       "array([ 921,  277, 2013,  474, 2194,  793, 1444, 2077,  520, 1575, 1066,\n",
       "         97,  659,  507,  901])"
      ]
     },
     "execution_count": 18,
     "metadata": {},
     "output_type": "execute_result"
    }
   ],
   "source": [
    "user_rec[0]"
   ]
  },
  {
   "cell_type": "code",
   "execution_count": 26,
   "metadata": {},
   "outputs": [
    {
     "name": "stdout",
     "output_type": "stream",
     "text": [
      "Precision : 0.24415300546448088\n",
      "Recall : 0.1206589251957872\n",
      "F1 Score : 0.16150370504247244\n"
     ]
    },
    {
     "data": {
      "text/plain": [
       "(0.24415300546448088, 0.1206589251957872, 0.16150370504247244)"
      ]
     },
     "execution_count": 26,
     "metadata": {},
     "output_type": "execute_result"
    }
   ],
   "source": [
    "get_metrics2(testing, rec_list)\n"
   ]
  },
  {
   "cell_type": "code",
   "execution_count": null,
   "metadata": {},
   "outputs": [],
   "source": []
  }
 ],
 "metadata": {
  "kernelspec": {
   "display_name": "Python 3",
   "language": "python",
   "name": "python3"
  },
  "language_info": {
   "codemirror_mode": {
    "name": "ipython",
    "version": 3
   },
   "file_extension": ".py",
   "mimetype": "text/x-python",
   "name": "python",
   "nbconvert_exporter": "python",
   "pygments_lexer": "ipython3",
   "version": "3.8.3"
  }
 },
 "nbformat": 4,
 "nbformat_minor": 4
}
