{
 "cells": [
  {
   "cell_type": "code",
   "execution_count": 1,
   "metadata": {},
   "outputs": [],
   "source": [
    "import pandas as pd\n",
    "import numpy as np\n",
    "import random\n",
    "import math\n",
    "from sklearn.linear_model import LogisticRegression, Ridge\n",
    "from sklearn.metrics.pairwise import cosine_similarity\n",
    "import time\n",
    "\n",
    "from functions import train_test"
   ]
  },
  {
   "cell_type": "code",
   "execution_count": 2,
   "metadata": {},
   "outputs": [],
   "source": [
    "rating_df = pd.read_csv('data/user_rating_pt.csv')\n",
    "rating_df.columns = rating_df.columns.astype(int)"
   ]
  },
  {
   "cell_type": "code",
   "execution_count": 3,
   "metadata": {},
   "outputs": [],
   "source": [
    "rating_treshold = 3.5\n",
    "\n",
    "rating_df[rating_df < rating_treshold] = 0\n",
    "rating_df[rating_df >= rating_treshold] = 1\n",
    "rating_df.columns = range(len(rating_df.columns))"
   ]
  },
  {
   "cell_type": "code",
   "execution_count": 4,
   "metadata": {},
   "outputs": [],
   "source": [
    "rating_matrix = np.array(rating_df)"
   ]
  },
  {
   "cell_type": "code",
   "execution_count": 6,
   "metadata": {},
   "outputs": [],
   "source": [
    "known = []\n",
    "rating_matrix = rating_df.to_numpy()\n",
    "\n",
    "for u in range(rating_df.shape[0]):\n",
    "    for i in range(rating_df.shape[1]):\n",
    "        if rating_df.loc[u,i] > 0:\n",
    "            known.append((u, i))\n",
    "\n",
    "training, testing = train_test(known, test_size=0.3)"
   ]
  },
  {
   "cell_type": "code",
   "execution_count": 7,
   "metadata": {},
   "outputs": [],
   "source": [
    "train_matrix = np.zeros((rating_matrix.shape[0], rating_matrix.shape[1]))\n",
    "test_matrix = np.zeros((rating_matrix.shape[0], rating_matrix.shape[1]))\n",
    "\n",
    "for u, i in training:\n",
    "    train_matrix[u][i] = 1\n",
    "\n",
    "for u, i in testing:\n",
    "    test_matrix[u][i] = 1"
   ]
  },
  {
   "cell_type": "code",
   "execution_count": 22,
   "metadata": {},
   "outputs": [],
   "source": [
    "def get_metrics(test_matrix, user_rec):\n",
    "    true_positive = 0\n",
    "    false_positive = 0\n",
    "    false_negative = 0\n",
    "    \n",
    "    for u in range(user_rec.shape[0]):\n",
    "        for i in user_rec[u]:\n",
    "            if test_matrix[u][i] == 1:\n",
    "                true_positive+=1\n",
    "            else:\n",
    "                false_positive+=1\n",
    "                \n",
    "    for u in range(test_matrix.shape[0]):\n",
    "        for i in range(test_matrix.shape[1]):\n",
    "            if test_matrix[u][i] == 1 and i not in user_rec[u]:\n",
    "                false_negative+=1\n",
    "    \n",
    "    precision = true_positive/(true_positive + false_positive)\n",
    "    recall = true_positive/(true_positive + false_negative)\n",
    "    F1_score = 2*(precision*recall)/(precision + recall)\n",
    "\n",
    "    print(\"Precision :\", precision)\n",
    "    print(\"Recall :\", recall)\n",
    "    print(\"F1 Score :\", F1_score)\n",
    "    \n",
    "    return precision, recall, F1_score"
   ]
  },
  {
   "cell_type": "code",
   "execution_count": 23,
   "metadata": {},
   "outputs": [],
   "source": [
    "def get_recommendations(pred, k=5):\n",
    "    rec_list = []\n",
    "    \n",
    "    for u in range(pred.shape[0]):\n",
    "        rec = np.argpartition(pred[u],-k)[-k:]\n",
    "        rec_list.append(rec)\n",
    "    \n",
    "    return np.array(rec_list)"
   ]
  },
  {
   "cell_type": "markdown",
   "metadata": {},
   "source": [
    "## TF-IDF"
   ]
  },
  {
   "cell_type": "code",
   "execution_count": 8,
   "metadata": {},
   "outputs": [],
   "source": [
    "movie_df = pd.read_csv('ml-latest-small/movies.csv')\n",
    "genre_list = ['Action', 'Adventure', 'Animation', 'Children', 'Comedy', 'Crime', 'Documentary',\n",
    "              'Drama' ,'Fantasy', 'Film-Noir', 'Horror', 'Musical', 'Mystery', 'Romance', \n",
    "              'Sci-Fi', 'Thriller', 'War', 'Western']\n",
    "\n",
    "movies_rated = pd.read_csv('ml-latest-small/ratings.csv')['movieId'].unique()\n",
    "movie_df = movie_df[movie_df['movieId'].isin(movies_rated)].reset_index(drop=True)"
   ]
  },
  {
   "cell_type": "code",
   "execution_count": 9,
   "metadata": {},
   "outputs": [],
   "source": [
    "movie_genres = []\n",
    "total_genres = []\n",
    "\n",
    "for index, row in movie_df.iterrows():\n",
    "    row_genre = row['genres'].split('|')\n",
    "    movie_genres.append(row_genre)\n",
    "    \n",
    "    total_genres.append(len(row_genre))"
   ]
  },
  {
   "cell_type": "code",
   "execution_count": 10,
   "metadata": {},
   "outputs": [],
   "source": [
    "tf = pd.DataFrame([])\n",
    "\n",
    "for genre in genre_list:\n",
    "    tf_genre = []\n",
    "    \n",
    "    for movie in movie_genres:\n",
    "        if genre in movie:\n",
    "            tf_genre.append(1/len(movie))\n",
    "        else:\n",
    "            tf_genre.append(0)\n",
    "    \n",
    "    tf[genre] = tf_genre"
   ]
  },
  {
   "cell_type": "code",
   "execution_count": 11,
   "metadata": {},
   "outputs": [],
   "source": [
    "total_documents = len(movie_df)\n",
    "idf = []\n",
    "\n",
    "for genre in genre_list:\n",
    "    genre_count = 0\n",
    "    \n",
    "    for movie in movie_genres:\n",
    "        if genre in movie:\n",
    "            genre_count += 1\n",
    "    \n",
    "    idf.append(math.log(total_documents/genre_count, 10))\n",
    "\n",
    "idf = pd.Series(idf, index=genre_list)"
   ]
  },
  {
   "cell_type": "code",
   "execution_count": 12,
   "metadata": {},
   "outputs": [],
   "source": [
    "tf_idf = tf*idf"
   ]
  },
  {
   "cell_type": "code",
   "execution_count": 13,
   "metadata": {},
   "outputs": [
    {
     "data": {
      "text/plain": [
       "(9724, 9724)"
      ]
     },
     "execution_count": 13,
     "metadata": {},
     "output_type": "execute_result"
    }
   ],
   "source": [
    "sim_matrix = cosine_similarity(tf_idf)\n",
    "np.fill_diagonal(sim_matrix, 0)\n",
    "\n",
    "sim_matrix.shape"
   ]
  },
  {
   "cell_type": "code",
   "execution_count": 14,
   "metadata": {},
   "outputs": [],
   "source": [
    "avg_sim_matrix = []\n",
    "\n",
    "for user in train_matrix:\n",
    "    liked_index = np.where(user==1)\n",
    "    \n",
    "    if len(liked_index[0]) != 0:\n",
    "        avg_sim = sim_matrix[liked_index].mean(axis=0)\n",
    "        avg_sim[liked_index] = 0\n",
    "    else:\n",
    "        avg_sim = [0]*train_matrix.shape[1]\n",
    "    \n",
    "    avg_sim_matrix.append(avg_sim)\n",
    "    \n",
    "avg_sim_matrix = np.array(avg_sim_matrix)"
   ]
  },
  {
   "cell_type": "code",
   "execution_count": 15,
   "metadata": {},
   "outputs": [
    {
     "data": {
      "text/plain": [
       "(610, 9724)"
      ]
     },
     "execution_count": 15,
     "metadata": {},
     "output_type": "execute_result"
    }
   ],
   "source": [
    "avg_sim_matrix.shape"
   ]
  },
  {
   "cell_type": "code",
   "execution_count": 19,
   "metadata": {},
   "outputs": [
    {
     "data": {
      "text/plain": [
       "(2, 9724)"
      ]
     },
     "execution_count": 19,
     "metadata": {},
     "output_type": "execute_result"
    }
   ],
   "source": [
    "avg_sim_matrix[[1,2]].shape"
   ]
  },
  {
   "cell_type": "markdown",
   "metadata": {},
   "source": [
    "## LREC"
   ]
  },
  {
   "cell_type": "code",
   "execution_count": 47,
   "metadata": {},
   "outputs": [],
   "source": [
    "def LREC(dataset, reg=1.0, user_list=None, cf_weight=0.5):\n",
    "    \n",
    "    if user_list == None:\n",
    "        user_list = range(dataset.shape[0])\n",
    "        \n",
    "    X = dataset.T\n",
    "    Y = X*2 - 1\n",
    "   \n",
    "    W = []\n",
    "\n",
    "    for index in user_list:\n",
    "        if 1 in Y.T[index] and -1 in Y.T[index]:\n",
    "            rdg = Ridge(alpha=reg).fit(X, Y.T[index])\n",
    "            \n",
    "            W.append(rdg.coef_)\n",
    "        else:\n",
    "            W.append(np.zeros(dataset.shape[0]))\n",
    "    \n",
    "        \n",
    "    if user_list == range(dataset.shape[0]):     \n",
    "        W = np.array(W)\n",
    "        pred = cf_weight*np.dot(W.T, dataset[user_list]) + avg_sim_matrix\n",
    "\n",
    "    else:\n",
    "        W = np.array(W)\n",
    "        pred = cf_weight*np.dot(W, dataset) + avg_sim_matrix[np.array(user_list)]\n",
    "        \n",
    "        \n",
    "    train_replace = pred.min() - 1\n",
    "    for index, u in enumerate(user_list):\n",
    "        user_ratings = dataset[u]\n",
    "        liked_movies = np.where(user_ratings == 1)[0]\n",
    "            \n",
    "        for i in liked_movies:\n",
    "            pred[index][i] = train_replace\n",
    "        \n",
    "    return pred"
   ]
  },
  {
   "cell_type": "code",
   "execution_count": null,
   "metadata": {},
   "outputs": [],
   "source": [
    "import time"
   ]
  },
  {
   "cell_type": "code",
   "execution_count": 76,
   "metadata": {},
   "outputs": [
    {
     "name": "stdout",
     "output_type": "stream",
     "text": [
      "Precision : 0.2523497267759563\n",
      "Recall : 0.12470969484201998\n",
      "F1 Score : 0.16692571841677206\n",
      "54.06572914123535\n"
     ]
    }
   ],
   "source": [
    "t = time.time()\n",
    "pred_ = LREC(train_matrix, reg=250, cf_weight=8)\n",
    "user_rec = get_recommendations(pred_, k=15)\n",
    "\n",
    "get_metrics(test_matrix, user_rec)\n",
    "print(time.time() - t)"
   ]
  },
  {
   "cell_type": "code",
   "execution_count": 77,
   "metadata": {},
   "outputs": [
    {
     "data": {
      "text/plain": [
       "0.12041592597961426"
      ]
     },
     "execution_count": 77,
     "metadata": {},
     "output_type": "execute_result"
    }
   ],
   "source": [
    "t = time.time()\n",
    "pred_1 = LREC(train_matrix, reg=250, cf_weight=8, user_list=[121])\n",
    "user_rec1 = get_recommendations(pred_1, k=15)\n",
    "time.time() - t"
   ]
  },
  {
   "cell_type": "code",
   "execution_count": 78,
   "metadata": {},
   "outputs": [
    {
     "data": {
      "text/plain": [
       "array([[ 968,  224, 6405,  956, 2637, 2144, 8045,  899, 4607,  895, 3557,\n",
       "        7022, 3136,  254, 2670]])"
      ]
     },
     "execution_count": 78,
     "metadata": {},
     "output_type": "execute_result"
    }
   ],
   "source": [
    "user_rec1"
   ]
  },
  {
   "cell_type": "code",
   "execution_count": 79,
   "metadata": {},
   "outputs": [
    {
     "data": {
      "text/plain": [
       "array([ 968,  224, 6405,  956, 2637, 2144, 8045,  899, 4607,  895, 3557,\n",
       "       7022, 3136,  254, 2670])"
      ]
     },
     "execution_count": 79,
     "metadata": {},
     "output_type": "execute_result"
    }
   ],
   "source": [
    "user_rec[121]"
   ]
  },
  {
   "cell_type": "markdown",
   "metadata": {},
   "source": [
    "## Testing"
   ]
  },
  {
   "cell_type": "code",
   "execution_count": 84,
   "metadata": {},
   "outputs": [
    {
     "name": "stdout",
     "output_type": "stream",
     "text": [
      "weight = 1\n",
      "Precision : 0.22743169398907104\n",
      "Recall : 0.11239535511747233\n",
      "F1 Score : 0.15044279775890115\n",
      "\n",
      "weight = 2\n",
      "Precision : 0.24513661202185794\n",
      "Recall : 0.12114501755333514\n",
      "F1 Score : 0.16215434664738843\n",
      "\n",
      "weight = 3\n",
      "Precision : 0.2514754098360656\n",
      "Recall : 0.12427761274642182\n",
      "F1 Score : 0.16634737032351346\n",
      "\n",
      "weight = 4\n",
      "Precision : 0.25224043715846994\n",
      "Recall : 0.12465568458007022\n",
      "F1 Score : 0.16685342490511476\n",
      "\n",
      "weight = 5\n",
      "Precision : 0.25256830601092894\n",
      "Recall : 0.12481771536591953\n",
      "F1 Score : 0.16707030544008677\n",
      "\n",
      "weight = 6\n",
      "Precision : 0.252896174863388\n",
      "Recall : 0.12497974615176884\n",
      "F1 Score : 0.16728718597505876\n",
      "\n",
      "weight = 7\n",
      "Precision : 0.2523497267759563\n",
      "Recall : 0.12470969484201998\n",
      "F1 Score : 0.16692571841677206\n",
      "\n",
      "weight = 8\n",
      "Precision : 0.2523497267759563\n",
      "Recall : 0.12470969484201998\n",
      "F1 Score : 0.16692571841677206\n",
      "\n",
      "weight = 9\n",
      "Precision : 0.2523497267759563\n",
      "Recall : 0.12470969484201998\n",
      "F1 Score : 0.16692571841677206\n",
      "\n",
      "weight = 10\n",
      "Precision : 0.25169398907103824\n",
      "Recall : 0.12438563327032136\n",
      "F1 Score : 0.16649195734682812\n",
      "\n"
     ]
    }
   ],
   "source": [
    "weights = [i for i in range(1,11)]\n",
    "scores = []\n",
    "\n",
    "for w in weights:\n",
    "    pred_ = LREC(train_matrix, reg=250, cf_weight=w)\n",
    "    user_rec = get_recommendations(pred_, k=15)\n",
    "    \n",
    "    print(\"weight =\", w)\n",
    "    scores.append(get_metrics(test_matrix, user_rec))\n",
    "    print()"
   ]
  },
  {
   "cell_type": "markdown",
   "metadata": {},
   "source": [
    "## Graphs"
   ]
  },
  {
   "cell_type": "code",
   "execution_count": 85,
   "metadata": {},
   "outputs": [],
   "source": [
    "precision_list = []\n",
    "recall_list = []\n",
    "F1_list = []\n",
    "\n",
    "for s in scores:\n",
    "    precision_list.append(s[0])\n",
    "    recall_list.append(s[1])\n",
    "    F1_list.append(s[2])"
   ]
  },
  {
   "cell_type": "code",
   "execution_count": 86,
   "metadata": {},
   "outputs": [],
   "source": [
    "import matplotlib.pyplot as plt"
   ]
  },
  {
   "cell_type": "code",
   "execution_count": 95,
   "metadata": {},
   "outputs": [
    {
     "data": {
      "image/png": "[encoded data removed]",
      "text/plain": [
       "<Figure size 432x288 with 1 Axes>"
      ]
     },
     "metadata": {
      "needs_background": "light"
     },
     "output_type": "display_data"
    }
   ],
   "source": [
    "plt.plot(weights, precision_list, color='green', linewidth=2)\n",
    "\n",
    "plt.title('Precision at Weight', size=14)\n",
    "plt.xlabel('LREC Weight', size=12)\n",
    "plt.ylabel('Precision', size=12)\n",
    "plt.xticks(range(1,11,1))\n",
    "\n",
    "plt.show()"
   ]
  },
  {
   "cell_type": "code",
   "execution_count": 93,
   "metadata": {},
   "outputs": [
    {
     "data": {
      "image/png": "[encoded data removed]",
      "text/plain": [
       "<Figure size 432x288 with 1 Axes>"
      ]
     },
     "metadata": {
      "needs_background": "light"
     },
     "output_type": "display_data"
    }
   ],
   "source": [
    "plt.plot(weights, recall_list, color='blue', linewidth=2)\n",
    "\n",
    "plt.title('Recall at Weight', size=14)\n",
    "plt.xlabel('Collabortive Filtering Weight', size=12)\n",
    "plt.ylabel('Recall', size=12)\n",
    "\n",
    "\n",
    "plt.show()"
   ]
  },
  {
   "cell_type": "code",
   "execution_count": null,
   "metadata": {},
   "outputs": [],
   "source": []
  }
 ],
 "metadata": {
  "kernelspec": {
   "display_name": "Python 3",
   "language": "python",
   "name": "python3"
  },
  "language_info": {
   "codemirror_mode": {
    "name": "ipython",
    "version": 3
   },
   "file_extension": ".py",
   "mimetype": "text/x-python",
   "name": "python",
   "nbconvert_exporter": "python",
   "pygments_lexer": "ipython3",
   "version": "3.8.3"
  }
 },
 "nbformat": 4,
 "nbformat_minor": 4
}
