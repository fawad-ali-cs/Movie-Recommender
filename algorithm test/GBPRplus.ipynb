{
 "cells": [
  {
   "cell_type": "code",
   "execution_count": 242,
   "metadata": {},
   "outputs": [],
   "source": [
    "import pandas as pd\n",
    "import numpy as np\n",
    "import random\n",
    "import math\n",
    "import time\n",
    "\n",
    "import matplotlib.pyplot as plt\n",
    "from functions import train_test"
   ]
  },
  {
   "cell_type": "code",
   "execution_count": 243,
   "metadata": {},
   "outputs": [],
   "source": [
    "def GBPRplus(rating_matrix, group_size=3, item_size = 3, latent_features=25, rho=0.5, reg_terms= (0.001, 0.001, 0.001), learning_rate=0.01, iterations=100):\n",
    "    U = np.random.rand(rating_matrix.shape[0], latent_features)\n",
    "    V = np.random.rand(rating_matrix.shape[1], latent_features)\n",
    "    b = np.random.rand(rating_matrix.shape[1])\n",
    "    \n",
    "    au, av, bv = reg_terms\n",
    "    \n",
    "    items_liked = []\n",
    "    items_not_liked = []\n",
    "    \n",
    "    for row in rating_matrix:\n",
    "        liked_list = []\n",
    "        not_liked = []\n",
    "        \n",
    "        for index, val in enumerate(row):\n",
    "            if val == 1:\n",
    "                liked_list.append(index)\n",
    "            else:\n",
    "                not_liked.append(index)\n",
    "                \n",
    "        items_liked.append(liked_list)\n",
    "        items_not_liked.append(not_liked)\n",
    "    \n",
    "    user_liked = []\n",
    "    for col in rating_matrix.T:\n",
    "        user_list = []\n",
    "        \n",
    "        for index, val in enumerate(col):\n",
    "            if val == 1:\n",
    "                user_list.append(index)\n",
    "            \n",
    "        user_liked.append(user_list)\n",
    "                \n",
    "    for t1 in range(iterations*rating_matrix.shape[0]):\n",
    "        #for t2 in range(rating_matrix.shape[0]):\n",
    "        \n",
    "        user = random.randint(0,rating_matrix.shape[0] - 1)\n",
    "        \n",
    "        if len(items_liked[user]) >= 1: \n",
    "            item = np.random.choice(items_liked[user], 1)[0]\n",
    "            item_liked = True\n",
    "        else:\n",
    "            item_liked = False\n",
    "        \n",
    "        if len(user_liked[item]) >= group_size and len(items_not_liked[user]) >= item_size and item_liked:\n",
    "            \n",
    "            group = np.setdiff1d(user_liked[item], user)\n",
    "            group = np.random.choice(group, group_size-1, replace=False)\n",
    "\n",
    "            item_set = np.random.choice(items_not_liked[user], item_size, replace=False)\n",
    "            \n",
    "            U_group = U[user].copy()\n",
    "            for w in group:\n",
    "                U_group += U[w]\n",
    "            U_group /= group_size\n",
    "            \n",
    "            user_pref_i = np.dot(U[user], V[item]) + b[item]\n",
    "            group_pref_i = np.dot(U_group, V[item]) + b[item]\n",
    "      \n",
    "            fused_pref_i = rho*group_pref_i + (1-rho)*user_pref_i\n",
    "            \n",
    "            deriv_list = []\n",
    "            for j in item_set:\n",
    "                user_pref_j = np.dot(U[user], V[j]) + b[j]\n",
    "                pairwise_pref = fused_pref_i - user_pref_j\n",
    "                expon = math.exp(-1*pairwise_pref)\n",
    "                \n",
    "                deriv_list.append((-1/item_size)*expon/(1+expon))\n",
    "                \n",
    "            deriv_list = np.array(deriv_list)\n",
    "            deriv_sum = sum(deriv_list)\n",
    "            \n",
    "            grad_Uu = au*U[user]\n",
    "            for j, driv in zip(item_set, deriv_list):\n",
    "                grad_Uu += driv*((1-rho)*V[item] + rho*V[item]/group_size - V[j])\n",
    "            \n",
    "            grad_Uw = []\n",
    "            for w in group:\n",
    "                grad = V[item]*deriv_sum*rho/group_size + au*U[w]/group_size\n",
    "                grad_Uw.append(grad)\n",
    "            \n",
    "            grad_Vi = deriv_sum*((1-rho)*U[user] + rho*U_group) + av*V[item]\n",
    "            grad_bi = deriv_sum + bv*b[item]\n",
    "            \n",
    "            grad_Vj = []\n",
    "            grad_bj = []\n",
    "            for j, driv in zip(item_set, deriv_list):\n",
    "                grad_V = -1*driv*U[user] + av*V[j]\n",
    "                grad_Vj.append(grad_V)\n",
    "                \n",
    "                grad_b = -1*driv + bv*b[j]\n",
    "                grad_bj.append(grad_b)\n",
    "           \n",
    "            U[user] -= learning_rate*grad_Uu\n",
    "            \n",
    "            for w, grad in zip(group, grad_Uw):\n",
    "                U[w] -= learning_rate*grad\n",
    "            \n",
    "            V[item] -= learning_rate*grad_Vi\n",
    "            b[item] -= learning_rate*grad_bi\n",
    "            \n",
    "            for j, grad_V, grad_b in zip(item_set, grad_Vj, grad_bj):\n",
    "                V[j] -= learning_rate*grad_V\n",
    "                b[j] -= learning_rate*grad_b\n",
    "        \n",
    "    return U, V, b"
   ]
  },
  {
   "cell_type": "code",
   "execution_count": 244,
   "metadata": {},
   "outputs": [],
   "source": [
    "def get_recommendations(pred, k=5):\n",
    "    rec_list = []\n",
    "    \n",
    "    for u in range(pred.shape[0]):\n",
    "        rec = np.argpartition(pred[u],-k)[-k:]\n",
    "        rec_list.append(rec)\n",
    "    \n",
    "    return np.array(rec_list)"
   ]
  },
  {
   "cell_type": "code",
   "execution_count": 245,
   "metadata": {},
   "outputs": [],
   "source": [
    "def get_metrics(test_matrix, user_rec):\n",
    "    true_positive = 0\n",
    "    false_positive = 0\n",
    "    false_negative = 0\n",
    "    \n",
    "    for u in range(user_rec.shape[0]):\n",
    "        for i in user_rec[u]:\n",
    "            if test_matrix[u][i] == 1:\n",
    "                true_positive+=1\n",
    "            else:\n",
    "                false_positive+=1\n",
    "                \n",
    "    for u in range(test_matrix.shape[0]):\n",
    "        for i in range(test_matrix.shape[1]):\n",
    "            if test_matrix[u][i] == 1 and i not in user_rec[u]:\n",
    "                false_negative+=1\n",
    "    \n",
    "    precision = true_positive/(true_positive + false_positive)\n",
    "    recall = true_positive/(true_positive + false_negative)\n",
    "    F1_score = 2*(precision*recall)/(precision + recall)\n",
    "\n",
    "    print(\"Precision :\", precision)\n",
    "    print(\"Recall :\", recall)\n",
    "    print(\"F1 Score :\", F1_score)\n",
    "    \n",
    "    return precision, recall, F1_score"
   ]
  },
  {
   "cell_type": "code",
   "execution_count": 246,
   "metadata": {},
   "outputs": [],
   "source": [
    "rating_df = pd.read_csv('data/user_rating_pt.csv')\n",
    "rating_df.columns = rating_df.columns.astype(int)"
   ]
  },
  {
   "cell_type": "code",
   "execution_count": 247,
   "metadata": {},
   "outputs": [
    {
     "data": {
      "text/html": [
       "<div>\n",
       "<style scoped>\n",
       "    .dataframe tbody tr th:only-of-type {\n",
       "        vertical-align: middle;\n",
       "    }\n",
       "\n",
       "    .dataframe tbody tr th {\n",
       "        vertical-align: top;\n",
       "    }\n",
       "\n",
       "    .dataframe thead th {\n",
       "        text-align: right;\n",
       "    }\n",
       "</style>\n",
       "<table border=\"1\" class=\"dataframe\">\n",
       "  <thead>\n",
       "    <tr style=\"text-align: right;\">\n",
       "      <th></th>\n",
       "      <th>0</th>\n",
       "      <th>1</th>\n",
       "      <th>2</th>\n",
       "      <th>3</th>\n",
       "      <th>4</th>\n",
       "      <th>5</th>\n",
       "      <th>6</th>\n",
       "      <th>7</th>\n",
       "      <th>8</th>\n",
       "      <th>9</th>\n",
       "      <th>...</th>\n",
       "      <th>9714</th>\n",
       "      <th>9715</th>\n",
       "      <th>9716</th>\n",
       "      <th>9717</th>\n",
       "      <th>9718</th>\n",
       "      <th>9719</th>\n",
       "      <th>9720</th>\n",
       "      <th>9721</th>\n",
       "      <th>9722</th>\n",
       "      <th>9723</th>\n",
       "    </tr>\n",
       "  </thead>\n",
       "  <tbody>\n",
       "    <tr>\n",
       "      <th>0</th>\n",
       "      <td>1.0</td>\n",
       "      <td>0.0</td>\n",
       "      <td>1.0</td>\n",
       "      <td>0.0</td>\n",
       "      <td>0.0</td>\n",
       "      <td>1.0</td>\n",
       "      <td>0.0</td>\n",
       "      <td>0</td>\n",
       "      <td>0.0</td>\n",
       "      <td>0.0</td>\n",
       "      <td>...</td>\n",
       "      <td>0.0</td>\n",
       "      <td>0</td>\n",
       "      <td>0</td>\n",
       "      <td>0</td>\n",
       "      <td>0.0</td>\n",
       "      <td>0</td>\n",
       "      <td>0.0</td>\n",
       "      <td>0.0</td>\n",
       "      <td>0.0</td>\n",
       "      <td>0</td>\n",
       "    </tr>\n",
       "    <tr>\n",
       "      <th>1</th>\n",
       "      <td>0.0</td>\n",
       "      <td>0.0</td>\n",
       "      <td>0.0</td>\n",
       "      <td>0.0</td>\n",
       "      <td>0.0</td>\n",
       "      <td>0.0</td>\n",
       "      <td>0.0</td>\n",
       "      <td>0</td>\n",
       "      <td>0.0</td>\n",
       "      <td>0.0</td>\n",
       "      <td>...</td>\n",
       "      <td>0.0</td>\n",
       "      <td>0</td>\n",
       "      <td>0</td>\n",
       "      <td>0</td>\n",
       "      <td>0.0</td>\n",
       "      <td>0</td>\n",
       "      <td>0.0</td>\n",
       "      <td>0.0</td>\n",
       "      <td>0.0</td>\n",
       "      <td>0</td>\n",
       "    </tr>\n",
       "    <tr>\n",
       "      <th>2</th>\n",
       "      <td>0.0</td>\n",
       "      <td>0.0</td>\n",
       "      <td>0.0</td>\n",
       "      <td>0.0</td>\n",
       "      <td>0.0</td>\n",
       "      <td>0.0</td>\n",
       "      <td>0.0</td>\n",
       "      <td>0</td>\n",
       "      <td>0.0</td>\n",
       "      <td>0.0</td>\n",
       "      <td>...</td>\n",
       "      <td>0.0</td>\n",
       "      <td>0</td>\n",
       "      <td>0</td>\n",
       "      <td>0</td>\n",
       "      <td>0.0</td>\n",
       "      <td>0</td>\n",
       "      <td>0.0</td>\n",
       "      <td>0.0</td>\n",
       "      <td>0.0</td>\n",
       "      <td>0</td>\n",
       "    </tr>\n",
       "    <tr>\n",
       "      <th>3</th>\n",
       "      <td>0.0</td>\n",
       "      <td>0.0</td>\n",
       "      <td>0.0</td>\n",
       "      <td>0.0</td>\n",
       "      <td>0.0</td>\n",
       "      <td>0.0</td>\n",
       "      <td>0.0</td>\n",
       "      <td>0</td>\n",
       "      <td>0.0</td>\n",
       "      <td>0.0</td>\n",
       "      <td>...</td>\n",
       "      <td>0.0</td>\n",
       "      <td>0</td>\n",
       "      <td>0</td>\n",
       "      <td>0</td>\n",
       "      <td>0.0</td>\n",
       "      <td>0</td>\n",
       "      <td>0.0</td>\n",
       "      <td>0.0</td>\n",
       "      <td>0.0</td>\n",
       "      <td>0</td>\n",
       "    </tr>\n",
       "    <tr>\n",
       "      <th>4</th>\n",
       "      <td>1.0</td>\n",
       "      <td>0.0</td>\n",
       "      <td>0.0</td>\n",
       "      <td>0.0</td>\n",
       "      <td>0.0</td>\n",
       "      <td>0.0</td>\n",
       "      <td>0.0</td>\n",
       "      <td>0</td>\n",
       "      <td>0.0</td>\n",
       "      <td>0.0</td>\n",
       "      <td>...</td>\n",
       "      <td>0.0</td>\n",
       "      <td>0</td>\n",
       "      <td>0</td>\n",
       "      <td>0</td>\n",
       "      <td>0.0</td>\n",
       "      <td>0</td>\n",
       "      <td>0.0</td>\n",
       "      <td>0.0</td>\n",
       "      <td>0.0</td>\n",
       "      <td>0</td>\n",
       "    </tr>\n",
       "  </tbody>\n",
       "</table>\n",
       "<p>5 rows × 9724 columns</p>\n",
       "</div>"
      ],
      "text/plain": [
       "   0     1     2     3     4     5     6     7     8     9     ...  9714  \\\n",
       "0   1.0   0.0   1.0   0.0   0.0   1.0   0.0     0   0.0   0.0  ...   0.0   \n",
       "1   0.0   0.0   0.0   0.0   0.0   0.0   0.0     0   0.0   0.0  ...   0.0   \n",
       "2   0.0   0.0   0.0   0.0   0.0   0.0   0.0     0   0.0   0.0  ...   0.0   \n",
       "3   0.0   0.0   0.0   0.0   0.0   0.0   0.0     0   0.0   0.0  ...   0.0   \n",
       "4   1.0   0.0   0.0   0.0   0.0   0.0   0.0     0   0.0   0.0  ...   0.0   \n",
       "\n",
       "   9715  9716  9717  9718  9719  9720  9721  9722  9723  \n",
       "0     0     0     0   0.0     0   0.0   0.0   0.0     0  \n",
       "1     0     0     0   0.0     0   0.0   0.0   0.0     0  \n",
       "2     0     0     0   0.0     0   0.0   0.0   0.0     0  \n",
       "3     0     0     0   0.0     0   0.0   0.0   0.0     0  \n",
       "4     0     0     0   0.0     0   0.0   0.0   0.0     0  \n",
       "\n",
       "[5 rows x 9724 columns]"
      ]
     },
     "execution_count": 247,
     "metadata": {},
     "output_type": "execute_result"
    }
   ],
   "source": [
    "rating_treshold = 3.5\n",
    "\n",
    "rating_df[rating_df < rating_treshold] = 0\n",
    "rating_df[rating_df >= rating_treshold] = 1\n",
    "rating_df.columns = range(len(rating_df.columns))\n",
    "\n",
    "rating_df.head()"
   ]
  },
  {
   "cell_type": "code",
   "execution_count": 248,
   "metadata": {},
   "outputs": [],
   "source": [
    "rating_matrix = np.array(rating_df)"
   ]
  },
  {
   "cell_type": "code",
   "execution_count": 249,
   "metadata": {},
   "outputs": [],
   "source": [
    "known = []\n",
    "\n",
    "for u in range(rating_matrix.shape[0]):\n",
    "    for i in range(rating_matrix.shape[1]):\n",
    "        if rating_matrix[u,i] > 0:\n",
    "            known.append((u, i))\n",
    "\n",
    "training, testing = train_test(known, test_size=0.3)"
   ]
  },
  {
   "cell_type": "code",
   "execution_count": 250,
   "metadata": {},
   "outputs": [],
   "source": [
    "train_matrix = np.zeros((rating_matrix.shape[0], rating_matrix.shape[1]))\n",
    "test_matrix = np.zeros((rating_matrix.shape[0], rating_matrix.shape[1]))\n",
    "\n",
    "for u, i in training:\n",
    "    train_matrix[u][i] = 1\n",
    "\n",
    "for u, i in testing:\n",
    "    test_matrix[u][i] = 1"
   ]
  },
  {
   "cell_type": "code",
   "execution_count": 251,
   "metadata": {},
   "outputs": [],
   "source": [
    "scores = []"
   ]
  },
  {
   "cell_type": "code",
   "execution_count": 252,
   "metadata": {},
   "outputs": [
    {
     "name": "stdout",
     "output_type": "stream",
     "text": [
      "Precision : 0.13934426229508196\n",
      "Recall : 0.04590872265730489\n",
      "F1 Score : 0.06906357911842373\n"
     ]
    }
   ],
   "source": [
    "U, V, b = GBPRplus(train_matrix, rho=1, iterations=75, latent_features=2)\n",
    "pred = np.dot(U, V.T) + b\n",
    "\n",
    "train_replace = pred.min() - 1\n",
    "\n",
    "for u, i in training:\n",
    "    pred[u][i] = train_replace\n",
    "    \n",
    "user_rec = get_recommendations(pred, k=10)\n",
    "\n",
    "scores.append(get_metrics(test_matrix, user_rec))"
   ]
  },
  {
   "cell_type": "code",
   "execution_count": 253,
   "metadata": {},
   "outputs": [
    {
     "name": "stdout",
     "output_type": "stream",
     "text": [
      "Precision : 0.12819672131147541\n",
      "Recall : 0.0422360248447205\n",
      "F1 Score : 0.06353849278894982\n"
     ]
    }
   ],
   "source": [
    "U, V, b = GBPRplus(train_matrix, rho=1, iterations=75, latent_features=3)\n",
    "pred = np.dot(U, V.T) + b\n",
    "\n",
    "train_replace = pred.min() - 1\n",
    "\n",
    "for u, i in training:\n",
    "    pred[u][i] = train_replace\n",
    "    \n",
    "user_rec = get_recommendations(pred, k=10)\n",
    "\n",
    "scores.append(get_metrics(test_matrix, user_rec))"
   ]
  },
  {
   "cell_type": "code",
   "execution_count": 254,
   "metadata": {},
   "outputs": [
    {
     "name": "stdout",
     "output_type": "stream",
     "text": [
      "Precision : 0.13098360655737704\n",
      "Recall : 0.0431541992978666\n",
      "F1 Score : 0.06491976437131831\n"
     ]
    }
   ],
   "source": [
    "U, V, b = GBPRplus(train_matrix, rho=1, iterations=75, latent_features=5)\n",
    "pred = np.dot(U, V.T) + b\n",
    "\n",
    "train_replace = pred.min() - 1\n",
    "\n",
    "for u, i in training:\n",
    "    pred[u][i] = train_replace\n",
    "    \n",
    "user_rec = get_recommendations(pred, k=10)\n",
    "\n",
    "scores.append(get_metrics(test_matrix, user_rec))"
   ]
  },
  {
   "cell_type": "code",
   "execution_count": 255,
   "metadata": {},
   "outputs": [
    {
     "name": "stdout",
     "output_type": "stream",
     "text": [
      "Precision : 0.13131147540983606\n",
      "Recall : 0.04326221982176614\n",
      "F1 Score : 0.06508226691042047\n"
     ]
    }
   ],
   "source": [
    "U, V, b = GBPRplus(train_matrix, rho=1, iterations=75, latent_features=7)\n",
    "pred = np.dot(U, V.T) + b\n",
    "\n",
    "train_replace = pred.min() - 1\n",
    "\n",
    "for u, i in training:\n",
    "    pred[u][i] = train_replace\n",
    "    \n",
    "user_rec = get_recommendations(pred, k=10)\n",
    "\n",
    "scores.append(get_metrics(test_matrix, user_rec))"
   ]
  },
  {
   "cell_type": "code",
   "execution_count": 256,
   "metadata": {},
   "outputs": [
    {
     "name": "stdout",
     "output_type": "stream",
     "text": [
      "Precision : 0.13245901639344262\n",
      "Recall : 0.043640291655414526\n",
      "F1 Score : 0.06565102579727808\n"
     ]
    }
   ],
   "source": [
    "U, V, b = GBPRplus(train_matrix, rho=1, iterations=75, latent_features=10)\n",
    "pred = np.dot(U, V.T) + b\n",
    "\n",
    "train_replace = pred.min() - 1\n",
    "\n",
    "for u, i in training:\n",
    "    pred[u][i] = train_replace\n",
    "    \n",
    "user_rec = get_recommendations(pred, k=10)\n",
    "\n",
    "scores.append(get_metrics(test_matrix, user_rec))"
   ]
  },
  {
   "cell_type": "code",
   "execution_count": 257,
   "metadata": {},
   "outputs": [
    {
     "name": "stdout",
     "output_type": "stream",
     "text": [
      "Precision : 0.13081967213114754\n",
      "Recall : 0.04310018903591682\n",
      "F1 Score : 0.0648385131017672\n"
     ]
    }
   ],
   "source": [
    "U, V, b = GBPRplus(train_matrix, rho=1, iterations=75, latent_features=15)\n",
    "pred = np.dot(U, V.T) + b\n",
    "\n",
    "train_replace = pred.min() - 1\n",
    "\n",
    "for u, i in training:\n",
    "    pred[u][i] = train_replace\n",
    "    \n",
    "user_rec = get_recommendations(pred, k=10)\n",
    "\n",
    "scores.append(get_metrics(test_matrix, user_rec))"
   ]
  },
  {
   "cell_type": "code",
   "execution_count": 258,
   "metadata": {},
   "outputs": [
    {
     "name": "stdout",
     "output_type": "stream",
     "text": [
      "Precision : 0.11426229508196721\n",
      "Recall : 0.03764515257899001\n",
      "F1 Score : 0.056632134877107464\n"
     ]
    }
   ],
   "source": [
    "U, V, b = GBPRplus(train_matrix, rho=1, iterations=75, latent_features=20)\n",
    "pred = np.dot(U, V.T) + b\n",
    "\n",
    "train_replace = pred.min() - 1\n",
    "\n",
    "for u, i in training:\n",
    "    pred[u][i] = train_replace\n",
    "    \n",
    "user_rec = get_recommendations(pred, k=10)\n",
    "\n",
    "scores.append(get_metrics(test_matrix, user_rec))"
   ]
  },
  {
   "cell_type": "code",
   "execution_count": 259,
   "metadata": {},
   "outputs": [
    {
     "name": "stdout",
     "output_type": "stream",
     "text": [
      "Precision : 0.12245901639344263\n",
      "Recall : 0.04034566567647853\n",
      "F1 Score : 0.06069469835466179\n"
     ]
    }
   ],
   "source": [
    "U, V, b = GBPRplus(train_matrix, rho=1, iterations=75, latent_features=25)\n",
    "pred = np.dot(U, V.T) + b\n",
    "\n",
    "train_replace = pred.min() - 1\n",
    "\n",
    "for u, i in training:\n",
    "    pred[u][i] = train_replace\n",
    "    \n",
    "user_rec = get_recommendations(pred, k=10)\n",
    "\n",
    "scores.append(get_metrics(test_matrix, user_rec))"
   ]
  },
  {
   "cell_type": "markdown",
   "metadata": {},
   "source": [
    "## Graphs"
   ]
  },
  {
   "cell_type": "code",
   "execution_count": 260,
   "metadata": {},
   "outputs": [],
   "source": [
    "latent_features = [2,3,5,7,10,15,20, 25]\n",
    "\n",
    "precision_list = []\n",
    "recall_list = []\n",
    "F1_list = []\n",
    "\n",
    "for s in scores:\n",
    "    precision_list.append(s[0])\n",
    "    recall_list.append(s[1])\n",
    "    F1_list.append(s[2])"
   ]
  },
  {
   "cell_type": "code",
   "execution_count": 261,
   "metadata": {},
   "outputs": [
    {
     "data": {
      "image/png": "[encoded data removed]",
      "text/plain": [
       "<Figure size 432x288 with 1 Axes>"
      ]
     },
     "metadata": {
      "needs_background": "light"
     },
     "output_type": "display_data"
    }
   ],
   "source": [
    "plt.plot(latent_features, precision_list, color='green', linewidth=2)\n",
    "\n",
    "plt.title('Precision per Latent Features', size=14)\n",
    "plt.xlabel('latent Features', size=12)\n",
    "plt.ylabel('Precision', size=12)\n",
    "\n",
    "\n",
    "plt.show()"
   ]
  },
  {
   "cell_type": "code",
   "execution_count": 262,
   "metadata": {},
   "outputs": [
    {
     "data": {
      "image/png": "[encoded data removed]",
      "text/plain": [
       "<Figure size 432x288 with 1 Axes>"
      ]
     },
     "metadata": {
      "needs_background": "light"
     },
     "output_type": "display_data"
    }
   ],
   "source": [
    "plt.plot(latent_features, recall_list)\n",
    "\n",
    "plt.title('Recall per Latent Features')\n",
    "plt.xlabel('latent Features')\n",
    "plt.ylabel('Recall')\n",
    "\n",
    "\n",
    "plt.show()"
   ]
  },
  {
   "cell_type": "code",
   "execution_count": 263,
   "metadata": {},
   "outputs": [
    {
     "data": {
      "image/png": "[encoded data removed]",
      "text/plain": [
       "<Figure size 432x288 with 1 Axes>"
      ]
     },
     "metadata": {
      "needs_background": "light"
     },
     "output_type": "display_data"
    }
   ],
   "source": [
    "plt.plot(latent_features, F1_list)\n",
    "\n",
    "plt.title('Fl-Score per Latent Features')\n",
    "plt.xlabel('latent Features')\n",
    "plt.ylabel('Fl-Score')\n",
    "\n",
    "\n",
    "plt.show()"
   ]
  },
  {
   "cell_type": "markdown",
   "metadata": {},
   "source": [
    "## Set Size"
   ]
  },
  {
   "cell_type": "code",
   "execution_count": 264,
   "metadata": {},
   "outputs": [],
   "source": [
    "sizes = [2,3,4,6,8,10,12,14,16]\n",
    "scores_set_size = []"
   ]
  },
  {
   "cell_type": "code",
   "execution_count": 265,
   "metadata": {},
   "outputs": [
    {
     "name": "stdout",
     "output_type": "stream",
     "text": [
      "set size = 2\n",
      "Precision : 0.14065573770491804\n",
      "Recall : 0.04634080475290305\n",
      "F1 Score : 0.06971358927483243\n",
      "\n",
      "set size = 3\n",
      "Precision : 0.1318032786885246\n",
      "Recall : 0.04342425060761545\n",
      "F1 Score : 0.06532602071907374\n",
      "\n",
      "set size = 4\n",
      "Precision : 0.14540983606557378\n",
      "Recall : 0.047907102349446395\n",
      "F1 Score : 0.07206987609181394\n",
      "\n",
      "set size = 6\n",
      "Precision : 0.13278688524590163\n",
      "Recall : 0.04374831217931407\n",
      "F1 Score : 0.06581352833638025\n",
      "\n",
      "set size = 8\n",
      "Precision : 0.1437704918032787\n",
      "Recall : 0.04736699972994869\n",
      "F1 Score : 0.07125736339630306\n",
      "\n",
      "set size = 10\n",
      "Precision : 0.13278688524590163\n",
      "Recall : 0.04374831217931407\n",
      "F1 Score : 0.06581352833638025\n",
      "\n",
      "set size = 12\n",
      "Precision : 0.14\n",
      "Recall : 0.04612476370510397\n",
      "F1 Score : 0.06938858419662808\n",
      "\n",
      "set size = 14\n",
      "Precision : 0.1422950819672131\n",
      "Recall : 0.046880907372400756\n",
      "F1 Score : 0.07052610197034329\n",
      "\n",
      "set size = 16\n",
      "Precision : 0.1360655737704918\n",
      "Recall : 0.044828517418309476\n",
      "F1 Score : 0.06743855372740198\n",
      "\n"
     ]
    }
   ],
   "source": [
    "for size in sizes:\n",
    "    U, V, b = GBPRplus(train_matrix, rho=1, group_size=size, item_size=size, iterations=75, latent_features=2)\n",
    "    pred = np.dot(U, V.T) + b\n",
    "\n",
    "    train_replace = pred.min() - 1\n",
    "\n",
    "    for u, i in training:\n",
    "        pred[u][i] = train_replace\n",
    "\n",
    "    user_rec = get_recommendations(pred, k=10)\n",
    "    \n",
    "    print(\"set size =\",size)\n",
    "    scores_set_size.append(get_metrics(test_matrix, user_rec))\n",
    "    print()"
   ]
  },
  {
   "cell_type": "markdown",
   "metadata": {},
   "source": [
    "### Graphs"
   ]
  },
  {
   "cell_type": "code",
   "execution_count": 266,
   "metadata": {},
   "outputs": [],
   "source": [
    "precision_list = []\n",
    "recall_list = []\n",
    "F1_list = []\n",
    "\n",
    "for s in scores_set_size:\n",
    "    precision_list.append(s[0])\n",
    "    recall_list.append(s[1])\n",
    "    F1_list.append(s[2])"
   ]
  },
  {
   "cell_type": "code",
   "execution_count": 267,
   "metadata": {},
   "outputs": [
    {
     "data": {
      "image/png": "[encoded data removed]",
      "text/plain": [
       "<Figure size 432x288 with 1 Axes>"
      ]
     },
     "metadata": {
      "needs_background": "light"
     },
     "output_type": "display_data"
    }
   ],
   "source": [
    "plt.plot(sizes, precision_list, color='orange', linewidth=2)\n",
    "\n",
    "plt.title('Precision per Set Size', size=14)\n",
    "plt.xlabel('Set Size', size=12)\n",
    "plt.ylabel('Precision', size=12)\n",
    "\n",
    "\n",
    "plt.show()"
   ]
  },
  {
   "cell_type": "code",
   "execution_count": 268,
   "metadata": {},
   "outputs": [
    {
     "data": {
      "image/png": "[encoded data removed]",
      "text/plain": [
       "<Figure size 432x288 with 1 Axes>"
      ]
     },
     "metadata": {
      "needs_background": "light"
     },
     "output_type": "display_data"
    }
   ],
   "source": [
    "plt.plot(sizes, recall_list)\n",
    "\n",
    "plt.title('Recall per Set Size')\n",
    "plt.xlabel('Set Size')\n",
    "plt.ylabel('Recall')\n",
    "\n",
    "\n",
    "plt.show()"
   ]
  },
  {
   "cell_type": "code",
   "execution_count": 269,
   "metadata": {},
   "outputs": [
    {
     "data": {
      "image/png": "[encoded data removed]",
      "text/plain": [
       "<Figure size 432x288 with 1 Axes>"
      ]
     },
     "metadata": {
      "needs_background": "light"
     },
     "output_type": "display_data"
    }
   ],
   "source": [
    "plt.plot(sizes, F1_list)\n",
    "\n",
    "plt.title('F1 per Set Size')\n",
    "plt.xlabel('Set Size')\n",
    "plt.ylabel('F1 Score')\n",
    "\n",
    "\n",
    "plt.show()"
   ]
  },
  {
   "cell_type": "code",
   "execution_count": 275,
   "metadata": {},
   "outputs": [
    {
     "name": "stdout",
     "output_type": "stream",
     "text": [
      "Precision : 0.14081967213114754\n",
      "Recall : 0.04639481501485282\n",
      "F1 Score : 0.06979484054438351\n"
     ]
    },
    {
     "data": {
      "text/plain": [
       "(0.14081967213114754, 0.04639481501485282, 0.06979484054438351)"
      ]
     },
     "execution_count": 275,
     "metadata": {},
     "output_type": "execute_result"
    }
   ],
   "source": [
    "U, V, b = GBPRplus(train_matrix, rho=1, iterations=75, latent_features=2, reg_terms= (0.0001, 0.0001, 0.0001))\n",
    "pred = np.dot(U, V.T) + b\n",
    "\n",
    "train_replace = pred.min() - 1\n",
    "\n",
    "for u, i in training:\n",
    "    pred[u][i] = train_replace\n",
    "    \n",
    "user_rec = get_recommendations(pred, k=10)\n",
    "\n",
    "get_metrics(test_matrix, user_rec)"
   ]
  },
  {
   "cell_type": "code",
   "execution_count": 276,
   "metadata": {},
   "outputs": [
    {
     "name": "stdout",
     "output_type": "stream",
     "text": [
      "Precision : 0.14737704918032787\n",
      "Recall : 0.04855522549284364\n",
      "F1 Score : 0.07304489132642698\n"
     ]
    },
    {
     "data": {
      "text/plain": [
       "(0.14737704918032787, 0.04855522549284364, 0.07304489132642698)"
      ]
     },
     "execution_count": 276,
     "metadata": {},
     "output_type": "execute_result"
    }
   ],
   "source": [
    "U, V, b = GBPRplus(train_matrix, rho=1, iterations=75, latent_features=2)\n",
    "pred = np.dot(U, V.T) + b\n",
    "\n",
    "train_replace = pred.min() - 1\n",
    "\n",
    "for u, i in training:\n",
    "    pred[u][i] = train_replace\n",
    "    \n",
    "user_rec = get_recommendations(pred, k=10)\n",
    "\n",
    "get_metrics(test_matrix, user_rec)"
   ]
  },
  {
   "cell_type": "code",
   "execution_count": null,
   "metadata": {},
   "outputs": [],
   "source": []
  }
 ],
 "metadata": {
  "kernelspec": {
   "display_name": "Python 3",
   "language": "python",
   "name": "python3"
  },
  "language_info": {
   "codemirror_mode": {
    "name": "ipython",
    "version": 3
   },
   "file_extension": ".py",
   "mimetype": "text/x-python",
   "name": "python",
   "nbconvert_exporter": "python",
   "pygments_lexer": "ipython3",
   "version": "3.8.3"
  }
 },
 "nbformat": 4,
 "nbformat_minor": 4
}
